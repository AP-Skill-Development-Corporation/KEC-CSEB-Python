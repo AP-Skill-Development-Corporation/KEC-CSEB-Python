{
 "cells": [
  {
   "cell_type": "markdown",
   "id": "d0151dfc",
   "metadata": {},
   "source": [
    "## Dictionary:\n",
    "    - It can be represented as {} with empty items in it\n",
    "    - It can be typecasted as dict()\n",
    "    - It stores key and value pairs\n",
    "    - It allows duplicate values but not keys\n",
    "    - It stores data in ordered format\n",
    "    - It can changes a value and key\n",
    "    - We can access values by key names"
   ]
  },
  {
   "cell_type": "code",
   "execution_count": 1,
   "id": "fda01250",
   "metadata": {},
   "outputs": [
    {
     "name": "stdout",
     "output_type": "stream",
     "text": [
      "{} <class 'dict'>\n",
      "{'4'} <class 'set'>\n"
     ]
    }
   ],
   "source": [
    "z = {}\n",
    "w = {'4'}\n",
    "print(z,type(z))\n",
    "print(w,type(w))"
   ]
  },
  {
   "cell_type": "code",
   "execution_count": 3,
   "id": "17bf3344",
   "metadata": {},
   "outputs": [
    {
     "name": "stdout",
     "output_type": "stream",
     "text": [
      "{'sno': 1, 'sname': ['suresh', 'kiran'], 'sage': 30} <class 'dict'>\n"
     ]
    }
   ],
   "source": [
    "y = {'sno':1,'sname':['suresh','kiran'],'sage':30}\n",
    "print(y,type(y))"
   ]
  },
  {
   "cell_type": "code",
   "execution_count": 4,
   "id": "65897148",
   "metadata": {},
   "outputs": [
    {
     "name": "stdout",
     "output_type": "stream",
     "text": [
      "0 <class 'int'>\n",
      "1 <class 'int'>\n",
      "2 <class 'int'>\n"
     ]
    }
   ],
   "source": [
    "for i in range(len(y)):\n",
    "    print(i,type(i))"
   ]
  },
  {
   "cell_type": "code",
   "execution_count": 5,
   "id": "5ac6a63c",
   "metadata": {},
   "outputs": [
    {
     "ename": "KeyError",
     "evalue": "0",
     "output_type": "error",
     "traceback": [
      "\u001b[1;31m---------------------------------------------------------------------------\u001b[0m",
      "\u001b[1;31mKeyError\u001b[0m                                  Traceback (most recent call last)",
      "Cell \u001b[1;32mIn[5], line 2\u001b[0m\n\u001b[0;32m      1\u001b[0m \u001b[38;5;28;01mfor\u001b[39;00m i \u001b[38;5;129;01min\u001b[39;00m \u001b[38;5;28mrange\u001b[39m(\u001b[38;5;28mlen\u001b[39m(y)):\n\u001b[1;32m----> 2\u001b[0m     \u001b[38;5;28mprint\u001b[39m(\u001b[43my\u001b[49m\u001b[43m[\u001b[49m\u001b[43mi\u001b[49m\u001b[43m]\u001b[49m,\u001b[38;5;28mtype\u001b[39m(y[i]))\n",
      "\u001b[1;31mKeyError\u001b[0m: 0"
     ]
    }
   ],
   "source": [
    "for i in range(len(y)):\n",
    "    print(y[i],type(y[i]))"
   ]
  },
  {
   "cell_type": "code",
   "execution_count": 6,
   "id": "5f9694f2",
   "metadata": {},
   "outputs": [
    {
     "name": "stdout",
     "output_type": "stream",
     "text": [
      "sno <class 'str'>\n",
      "sname <class 'str'>\n",
      "sage <class 'str'>\n"
     ]
    }
   ],
   "source": [
    "for i in y:\n",
    "    print(i,type(i))"
   ]
  },
  {
   "cell_type": "code",
   "execution_count": 7,
   "id": "a59735aa",
   "metadata": {},
   "outputs": [
    {
     "ename": "ValueError",
     "evalue": "too many values to unpack (expected 2)",
     "output_type": "error",
     "traceback": [
      "\u001b[1;31m---------------------------------------------------------------------------\u001b[0m",
      "\u001b[1;31mValueError\u001b[0m                                Traceback (most recent call last)",
      "Cell \u001b[1;32mIn[7], line 1\u001b[0m\n\u001b[1;32m----> 1\u001b[0m \u001b[38;5;28;01mfor\u001b[39;00m i,j \u001b[38;5;129;01min\u001b[39;00m y:\n\u001b[0;32m      2\u001b[0m     \u001b[38;5;28mprint\u001b[39m(i,j,\u001b[38;5;28mtype\u001b[39m(i),\u001b[38;5;28mtype\u001b[39m(j))\n",
      "\u001b[1;31mValueError\u001b[0m: too many values to unpack (expected 2)"
     ]
    }
   ],
   "source": [
    "for i,j in y:\n",
    "    print(i,j,type(i),type(j))"
   ]
  },
  {
   "cell_type": "code",
   "execution_count": 9,
   "id": "9344f909",
   "metadata": {},
   "outputs": [
    {
     "name": "stdout",
     "output_type": "stream",
     "text": [
      "sno 1 <class 'str'> <class 'int'>\n",
      "sname ['suresh', 'kiran'] <class 'str'> <class 'list'>\n",
      "sage 30 <class 'str'> <class 'int'>\n"
     ]
    }
   ],
   "source": [
    "for i,j in y.items():\n",
    "    print(i,j,type(i),type(j))"
   ]
  },
  {
   "cell_type": "code",
   "execution_count": 10,
   "id": "654f91eb",
   "metadata": {},
   "outputs": [
    {
     "name": "stdout",
     "output_type": "stream",
     "text": [
      "['__class__', '__class_getitem__', '__contains__', '__delattr__', '__delitem__', '__dir__', '__doc__', '__eq__', '__format__', '__ge__', '__getattribute__', '__getitem__', '__gt__', '__hash__', '__init__', '__init_subclass__', '__ior__', '__iter__', '__le__', '__len__', '__lt__', '__ne__', '__new__', '__or__', '__reduce__', '__reduce_ex__', '__repr__', '__reversed__', '__ror__', '__setattr__', '__setitem__', '__sizeof__', '__str__', '__subclasshook__', 'clear', 'copy', 'fromkeys', 'get', 'items', 'keys', 'pop', 'popitem', 'setdefault', 'update', 'values']\n"
     ]
    }
   ],
   "source": [
    "print(dir(dict))"
   ]
  },
  {
   "cell_type": "code",
   "execution_count": 11,
   "id": "689d79db",
   "metadata": {},
   "outputs": [
    {
     "name": "stdout",
     "output_type": "stream",
     "text": [
      "dict_items([('sno', 1), ('sname', ['suresh', 'kiran']), ('sage', 30)])\n"
     ]
    }
   ],
   "source": [
    "print(y.items())"
   ]
  },
  {
   "cell_type": "code",
   "execution_count": 12,
   "id": "1264e80e",
   "metadata": {},
   "outputs": [
    {
     "name": "stdout",
     "output_type": "stream",
     "text": [
      "dict_keys(['sno', 'sname', 'sage'])\n"
     ]
    }
   ],
   "source": [
    "print(y.keys())"
   ]
  },
  {
   "cell_type": "code",
   "execution_count": 13,
   "id": "b4ef27f7",
   "metadata": {},
   "outputs": [
    {
     "name": "stdout",
     "output_type": "stream",
     "text": [
      "dict_values([1, ['suresh', 'kiran'], 30])\n"
     ]
    }
   ],
   "source": [
    "print(y.values())"
   ]
  },
  {
   "cell_type": "code",
   "execution_count": 14,
   "id": "4b5246e3",
   "metadata": {},
   "outputs": [
    {
     "name": "stdout",
     "output_type": "stream",
     "text": [
      "{'sno': 1, 'sname': ['suresh', 'kiran'], 'sage': 30}\n",
      "{'sno': 1, 'sname': ['suresh', 'kiran'], 'sage': 30, 'Addr': None}\n"
     ]
    }
   ],
   "source": [
    "print(y)\n",
    "y.setdefault('Addr')\n",
    "print(y)"
   ]
  },
  {
   "cell_type": "code",
   "execution_count": 15,
   "id": "ad946b2b",
   "metadata": {},
   "outputs": [
    {
     "name": "stdout",
     "output_type": "stream",
     "text": [
      "{'sno': 1, 'sname': ['suresh', 'kiran'], 'sage': 30, 'Addr': None}\n",
      "{'sno': 1, 'sname': ['suresh', 'kiran'], 'sage': 30, 'Addr': None, 'college': 'KEC'}\n"
     ]
    }
   ],
   "source": [
    "print(y)\n",
    "y.setdefault('college','KEC')\n",
    "print(y)"
   ]
  },
  {
   "cell_type": "code",
   "execution_count": 16,
   "id": "59636472",
   "metadata": {},
   "outputs": [
    {
     "name": "stdout",
     "output_type": "stream",
     "text": [
      "{'sno': 1, 'sname': ['suresh', 'kiran'], 'sage': 30, 'Addr': None, 'college': 'KEC'}\n",
      "{'sno': 1, 'sname': ['suresh', 'kiran'], 'sage': 30, 'Addr': 'Kuppam', 'college': 'KEC'}\n"
     ]
    }
   ],
   "source": [
    "print(y)\n",
    "y.update({'Addr':'Kuppam'})\n",
    "print(y)"
   ]
  },
  {
   "cell_type": "code",
   "execution_count": 17,
   "id": "03de73c0",
   "metadata": {},
   "outputs": [
    {
     "name": "stdout",
     "output_type": "stream",
     "text": [
      "{'sno': 1, 'sname': ['suresh', 'kiran'], 'sage': 30, 'Addr': 'Kuppam', 'college': 'KEC'}\n",
      "KEC\n",
      "{'sno': 1, 'sname': ['suresh', 'kiran'], 'sage': 30, 'Addr': 'Kuppam', 'college': 'KEC'}\n",
      "1\n"
     ]
    }
   ],
   "source": [
    "print(y)\n",
    "print(y.get('college'))\n",
    "print(y)\n",
    "print(y['sno'])"
   ]
  },
  {
   "cell_type": "code",
   "execution_count": 18,
   "id": "ec8f4bc1",
   "metadata": {},
   "outputs": [
    {
     "name": "stdout",
     "output_type": "stream",
     "text": [
      "{'sno': 1, 'sname': ['suresh', 'kiran'], 'sage': 30, 'Addr': 'Kuppam', 'college': 'KEC'}\n"
     ]
    },
    {
     "ename": "KeyError",
     "evalue": "'location'",
     "output_type": "error",
     "traceback": [
      "\u001b[1;31m---------------------------------------------------------------------------\u001b[0m",
      "\u001b[1;31mKeyError\u001b[0m                                  Traceback (most recent call last)",
      "Cell \u001b[1;32mIn[18], line 2\u001b[0m\n\u001b[0;32m      1\u001b[0m \u001b[38;5;28mprint\u001b[39m(y)\n\u001b[1;32m----> 2\u001b[0m \u001b[38;5;28mprint\u001b[39m(\u001b[43my\u001b[49m\u001b[43m[\u001b[49m\u001b[38;5;124;43m'\u001b[39;49m\u001b[38;5;124;43mlocation\u001b[39;49m\u001b[38;5;124;43m'\u001b[39;49m\u001b[43m]\u001b[49m)\n",
      "\u001b[1;31mKeyError\u001b[0m: 'location'"
     ]
    }
   ],
   "source": [
    "print(y)\n",
    "print(y['location'])"
   ]
  },
  {
   "cell_type": "code",
   "execution_count": 19,
   "id": "4b95c786",
   "metadata": {},
   "outputs": [
    {
     "name": "stdout",
     "output_type": "stream",
     "text": [
      "{'sno': 1, 'sname': ['suresh', 'kiran'], 'sage': 30, 'Addr': 'Kuppam', 'college': 'KEC'}\n"
     ]
    },
    {
     "ename": "TypeError",
     "evalue": "pop expected at least 1 argument, got 0",
     "output_type": "error",
     "traceback": [
      "\u001b[1;31m---------------------------------------------------------------------------\u001b[0m",
      "\u001b[1;31mTypeError\u001b[0m                                 Traceback (most recent call last)",
      "Cell \u001b[1;32mIn[19], line 2\u001b[0m\n\u001b[0;32m      1\u001b[0m \u001b[38;5;28mprint\u001b[39m(y)\n\u001b[1;32m----> 2\u001b[0m \u001b[43my\u001b[49m\u001b[38;5;241;43m.\u001b[39;49m\u001b[43mpop\u001b[49m\u001b[43m(\u001b[49m\u001b[43m)\u001b[49m\n\u001b[0;32m      3\u001b[0m \u001b[38;5;28mprint\u001b[39m(y)\n",
      "\u001b[1;31mTypeError\u001b[0m: pop expected at least 1 argument, got 0"
     ]
    }
   ],
   "source": [
    "print(y)\n",
    "y.pop()\n",
    "print(y)"
   ]
  },
  {
   "cell_type": "code",
   "execution_count": 20,
   "id": "415f03ea",
   "metadata": {},
   "outputs": [
    {
     "name": "stdout",
     "output_type": "stream",
     "text": [
      "{'sno': 1, 'sname': ['suresh', 'kiran'], 'sage': 30, 'Addr': 'Kuppam', 'college': 'KEC'}\n",
      "{'sname': ['suresh', 'kiran'], 'sage': 30, 'Addr': 'Kuppam', 'college': 'KEC'}\n"
     ]
    }
   ],
   "source": [
    "print(y)\n",
    "y.pop('sno')\n",
    "print(y)"
   ]
  },
  {
   "cell_type": "code",
   "execution_count": 21,
   "id": "b71be063",
   "metadata": {},
   "outputs": [
    {
     "name": "stdout",
     "output_type": "stream",
     "text": [
      "{'sname': ['suresh', 'kiran'], 'sage': 30, 'Addr': 'Kuppam', 'college': 'KEC'}\n",
      "{'sname': ['suresh', 'kiran'], 'sage': 30, 'Addr': 'Kuppam'}\n"
     ]
    }
   ],
   "source": [
    "print(y)\n",
    "y.popitem()\n",
    "print(y)"
   ]
  },
  {
   "cell_type": "code",
   "execution_count": 24,
   "id": "f16cf407",
   "metadata": {},
   "outputs": [
    {
     "name": "stdout",
     "output_type": "stream",
     "text": [
      "{'Lokesh': ('KEC', '2nd Year'), 'Suresh': ('KEC', '2nd Year')}\n"
     ]
    }
   ],
   "source": [
    "a = ['Lokesh','Suresh']\n",
    "b = 'KEC','2nd Year'\n",
    "q = {}\n",
    "q = q.fromkeys(a,b)\n",
    "print(q)"
   ]
  },
  {
   "cell_type": "code",
   "execution_count": 26,
   "id": "ddc332e3",
   "metadata": {},
   "outputs": [
    {
     "name": "stdout",
     "output_type": "stream",
     "text": [
      "{'sname': ['suresh', 'kiran'], 'sage': 30, 'Addr': 'Kuppam'}\n",
      "{'sname': ['suresh', 'kiran'], 'sage': 30, 'Addr': 'Kuppam'}\n",
      "{'sname': ['suresh', 'kiran'], 'sage': 30, 'Addr': 'Kuppam'}\n"
     ]
    }
   ],
   "source": [
    "print(y)\n",
    "z = y.copy()\n",
    "print(z)\n",
    "print(y)"
   ]
  },
  {
   "cell_type": "code",
   "execution_count": 27,
   "id": "da89e16d",
   "metadata": {},
   "outputs": [
    {
     "name": "stdout",
     "output_type": "stream",
     "text": [
      "{'Lokesh': ('KEC', '2nd Year'), 'Suresh': ('KEC', '2nd Year')}\n",
      "{}\n"
     ]
    }
   ],
   "source": [
    "print(q)\n",
    "q.clear()\n",
    "print(q)"
   ]
  },
  {
   "cell_type": "markdown",
   "id": "abb3032f",
   "metadata": {},
   "source": [
    "## Set:\n",
    "    - It can be represented as {} with some value in it\n",
    "    - It stores data in unorder format while displaying it in kernel and unordered format while using print statement\n",
    "    - It doesn't allows duplicate values\n",
    "    - It can be typecasted as set()\n",
    "    - Slicing can't be done because of no index\n",
    "    - It can changes as value"
   ]
  },
  {
   "cell_type": "code",
   "execution_count": 28,
   "id": "77f54e5c",
   "metadata": {},
   "outputs": [
    {
     "name": "stdout",
     "output_type": "stream",
     "text": [
      "{False, '1.021', 2, 45.015, (8+3j), 'Ganesh', None} <class 'set'>\n"
     ]
    }
   ],
   "source": [
    "m = {2,45.015,False,None,8+3j,'Ganesh','1.021',2,2}\n",
    "print(m,type(m))"
   ]
  },
  {
   "cell_type": "code",
   "execution_count": 30,
   "id": "5b5a443e",
   "metadata": {},
   "outputs": [
    {
     "name": "stdout",
     "output_type": "stream",
     "text": [
      "{False, '1.021', 2, 45.015, (8+3j), 'Ganesh', None}\n"
     ]
    },
    {
     "data": {
      "text/plain": [
       "{(8+3j), '1.021', 2, 45.015, False, 'Ganesh', None}"
      ]
     },
     "execution_count": 30,
     "metadata": {},
     "output_type": "execute_result"
    }
   ],
   "source": [
    "print(m)\n",
    "m"
   ]
  },
  {
   "cell_type": "code",
   "execution_count": 31,
   "id": "1831e365",
   "metadata": {},
   "outputs": [
    {
     "name": "stdout",
     "output_type": "stream",
     "text": [
      "0 <class 'int'>\n",
      "1 <class 'int'>\n",
      "2 <class 'int'>\n",
      "3 <class 'int'>\n",
      "4 <class 'int'>\n",
      "5 <class 'int'>\n",
      "6 <class 'int'>\n"
     ]
    }
   ],
   "source": [
    "for i in range(len(m)):\n",
    "    print(i,type(i))"
   ]
  },
  {
   "cell_type": "code",
   "execution_count": 32,
   "id": "ef1f1f59",
   "metadata": {},
   "outputs": [
    {
     "ename": "TypeError",
     "evalue": "'set' object is not subscriptable",
     "output_type": "error",
     "traceback": [
      "\u001b[1;31m---------------------------------------------------------------------------\u001b[0m",
      "\u001b[1;31mTypeError\u001b[0m                                 Traceback (most recent call last)",
      "Cell \u001b[1;32mIn[32], line 2\u001b[0m\n\u001b[0;32m      1\u001b[0m \u001b[38;5;28;01mfor\u001b[39;00m i \u001b[38;5;129;01min\u001b[39;00m \u001b[38;5;28mrange\u001b[39m(\u001b[38;5;28mlen\u001b[39m(m)):\n\u001b[1;32m----> 2\u001b[0m     \u001b[38;5;28mprint\u001b[39m(\u001b[43mm\u001b[49m\u001b[43m[\u001b[49m\u001b[43mi\u001b[49m\u001b[43m]\u001b[49m,\u001b[38;5;28mtype\u001b[39m(m[i]))\n",
      "\u001b[1;31mTypeError\u001b[0m: 'set' object is not subscriptable"
     ]
    }
   ],
   "source": [
    "for i in range(len(m)):\n",
    "    print(m[i],type(m[i]))"
   ]
  },
  {
   "cell_type": "code",
   "execution_count": 33,
   "id": "aca6ed2c",
   "metadata": {},
   "outputs": [
    {
     "name": "stdout",
     "output_type": "stream",
     "text": [
      "False <class 'bool'>\n",
      "1.021 <class 'str'>\n",
      "2 <class 'int'>\n",
      "45.015 <class 'float'>\n",
      "(8+3j) <class 'complex'>\n",
      "Ganesh <class 'str'>\n",
      "None <class 'NoneType'>\n"
     ]
    }
   ],
   "source": [
    "for i in m:\n",
    "    print(i,type(i))"
   ]
  },
  {
   "cell_type": "code",
   "execution_count": 34,
   "id": "57d03489",
   "metadata": {},
   "outputs": [
    {
     "name": "stdout",
     "output_type": "stream",
     "text": [
      "['__and__', '__class__', '__class_getitem__', '__contains__', '__delattr__', '__dir__', '__doc__', '__eq__', '__format__', '__ge__', '__getattribute__', '__gt__', '__hash__', '__iand__', '__init__', '__init_subclass__', '__ior__', '__isub__', '__iter__', '__ixor__', '__le__', '__len__', '__lt__', '__ne__', '__new__', '__or__', '__rand__', '__reduce__', '__reduce_ex__', '__repr__', '__ror__', '__rsub__', '__rxor__', '__setattr__', '__sizeof__', '__str__', '__sub__', '__subclasshook__', '__xor__', 'add', 'clear', 'copy', 'difference', 'difference_update', 'discard', 'intersection', 'intersection_update', 'isdisjoint', 'issubset', 'issuperset', 'pop', 'remove', 'symmetric_difference', 'symmetric_difference_update', 'union', 'update']\n"
     ]
    }
   ],
   "source": [
    "print(dir(set))"
   ]
  },
  {
   "cell_type": "code",
   "execution_count": 35,
   "id": "9783dbb1",
   "metadata": {},
   "outputs": [
    {
     "name": "stdout",
     "output_type": "stream",
     "text": [
      "{50, 4, 5, 6, 8, 9}\n",
      "{2, 3, 4, 56, 9, 88, 45}\n"
     ]
    }
   ],
   "source": [
    "a = {4,5,8,9,6,50}\n",
    "b = {56,88,9,3,45,2,4}\n",
    "print(a)\n",
    "print(b)"
   ]
  },
  {
   "cell_type": "code",
   "execution_count": 36,
   "id": "8c8c717a",
   "metadata": {},
   "outputs": [
    {
     "name": "stdout",
     "output_type": "stream",
     "text": [
      "{50, 4, 5, 6, 8, 9}\n",
      "{2, 3, 4, 56, 9, 88, 45}\n",
      "{2, 3, 4, 5, 6, 8, 9, 45, 50, 56, 88}\n",
      "{2, 3, 4, 5, 6, 8, 9, 45, 50, 56, 88}\n",
      "{50, 4, 5, 6, 8, 9}\n",
      "{2, 3, 4, 56, 9, 88, 45}\n"
     ]
    }
   ],
   "source": [
    "print(a)\n",
    "print(b)\n",
    "print(a.union(b))\n",
    "print(b.union(a))\n",
    "print(a)\n",
    "print(b)"
   ]
  },
  {
   "cell_type": "code",
   "execution_count": 37,
   "id": "af428bff",
   "metadata": {},
   "outputs": [
    {
     "name": "stdout",
     "output_type": "stream",
     "text": [
      "{50, 4, 5, 6, 8, 9}\n",
      "{2, 3, 4, 56, 9, 88, 45}\n",
      "{9, 4}\n",
      "{9, 4}\n",
      "{50, 4, 5, 6, 8, 9}\n",
      "{2, 3, 4, 56, 9, 88, 45}\n"
     ]
    }
   ],
   "source": [
    "print(a)\n",
    "print(b)\n",
    "print(a.intersection(b))\n",
    "print(b.intersection(a))\n",
    "print(a)\n",
    "print(b)"
   ]
  },
  {
   "cell_type": "code",
   "execution_count": 38,
   "id": "70e3d103",
   "metadata": {},
   "outputs": [
    {
     "name": "stdout",
     "output_type": "stream",
     "text": [
      "{50, 4, 5, 6, 8, 9}\n",
      "{2, 3, 4, 56, 9, 88, 45}\n",
      "{8, 50, 5, 6}\n",
      "{2, 3, 45, 56, 88}\n",
      "{50, 4, 5, 6, 8, 9}\n",
      "{2, 3, 4, 56, 9, 88, 45}\n"
     ]
    }
   ],
   "source": [
    "print(a)\n",
    "print(b)\n",
    "print(a.difference(b))\n",
    "print(b.difference(a))\n",
    "print(a)\n",
    "print(b)"
   ]
  },
  {
   "cell_type": "code",
   "execution_count": 39,
   "id": "6b032aff",
   "metadata": {},
   "outputs": [
    {
     "name": "stdout",
     "output_type": "stream",
     "text": [
      "{50, 4, 5, 6, 8, 9}\n",
      "{2, 3, 4, 56, 9, 88, 45}\n",
      "{2, 3, 5, 6, 8, 88, 45, 50, 56}\n",
      "{2, 3, 5, 6, 8, 88, 45, 50, 56}\n",
      "{50, 4, 5, 6, 8, 9}\n",
      "{2, 3, 4, 56, 9, 88, 45}\n"
     ]
    }
   ],
   "source": [
    "print(a)\n",
    "print(b)\n",
    "print(a.symmetric_difference(b))\n",
    "print(b.symmetric_difference(a))\n",
    "print(a)\n",
    "print(b)"
   ]
  },
  {
   "cell_type": "code",
   "execution_count": 40,
   "id": "5fef8c56",
   "metadata": {},
   "outputs": [
    {
     "name": "stdout",
     "output_type": "stream",
     "text": [
      "{50, 4, 5, 6, 8, 9}\n",
      "{4, 5, 6, 8, 9}\n"
     ]
    }
   ],
   "source": [
    "print(a)\n",
    "a.pop()\n",
    "print(a)"
   ]
  },
  {
   "cell_type": "code",
   "execution_count": 41,
   "id": "a7e4c740",
   "metadata": {},
   "outputs": [
    {
     "name": "stdout",
     "output_type": "stream",
     "text": [
      "{4, 5, 6, 8, 9}\n"
     ]
    },
    {
     "ename": "TypeError",
     "evalue": "set.pop() takes no arguments (1 given)",
     "output_type": "error",
     "traceback": [
      "\u001b[1;31m---------------------------------------------------------------------------\u001b[0m",
      "\u001b[1;31mTypeError\u001b[0m                                 Traceback (most recent call last)",
      "Cell \u001b[1;32mIn[41], line 2\u001b[0m\n\u001b[0;32m      1\u001b[0m \u001b[38;5;28mprint\u001b[39m(a)\n\u001b[1;32m----> 2\u001b[0m \u001b[43ma\u001b[49m\u001b[38;5;241;43m.\u001b[39;49m\u001b[43mpop\u001b[49m\u001b[43m(\u001b[49m\u001b[38;5;241;43m6\u001b[39;49m\u001b[43m)\u001b[49m\n\u001b[0;32m      3\u001b[0m \u001b[38;5;28mprint\u001b[39m(a)\n",
      "\u001b[1;31mTypeError\u001b[0m: set.pop() takes no arguments (1 given)"
     ]
    }
   ],
   "source": [
    "print(a)\n",
    "a.pop(6)\n",
    "print(a)"
   ]
  },
  {
   "cell_type": "code",
   "execution_count": 42,
   "id": "8cb6631e",
   "metadata": {},
   "outputs": [
    {
     "name": "stdout",
     "output_type": "stream",
     "text": [
      "{4, 5, 6, 8, 9}\n"
     ]
    },
    {
     "ename": "KeyError",
     "evalue": "-50",
     "output_type": "error",
     "traceback": [
      "\u001b[1;31m---------------------------------------------------------------------------\u001b[0m",
      "\u001b[1;31mKeyError\u001b[0m                                  Traceback (most recent call last)",
      "Cell \u001b[1;32mIn[42], line 2\u001b[0m\n\u001b[0;32m      1\u001b[0m \u001b[38;5;28mprint\u001b[39m(a)\n\u001b[1;32m----> 2\u001b[0m \u001b[43ma\u001b[49m\u001b[38;5;241;43m.\u001b[39;49m\u001b[43mremove\u001b[49m\u001b[43m(\u001b[49m\u001b[38;5;241;43m-\u001b[39;49m\u001b[38;5;241;43m50\u001b[39;49m\u001b[43m)\u001b[49m\n\u001b[0;32m      3\u001b[0m \u001b[38;5;28mprint\u001b[39m(a)\n",
      "\u001b[1;31mKeyError\u001b[0m: -50"
     ]
    }
   ],
   "source": [
    "print(a)\n",
    "a.remove(-50)\n",
    "print(a)"
   ]
  },
  {
   "cell_type": "code",
   "execution_count": 43,
   "id": "8a8ac614",
   "metadata": {},
   "outputs": [
    {
     "name": "stdout",
     "output_type": "stream",
     "text": [
      "{4, 5, 6, 8, 9}\n",
      "{4, 6, 8, 9}\n"
     ]
    }
   ],
   "source": [
    "print(a)\n",
    "a.remove(5)\n",
    "print(a)"
   ]
  },
  {
   "cell_type": "code",
   "execution_count": 44,
   "id": "95099dea",
   "metadata": {},
   "outputs": [
    {
     "name": "stdout",
     "output_type": "stream",
     "text": [
      "{4, 6, 8, 9}\n",
      "{450, 4, 6, 8, 9}\n"
     ]
    }
   ],
   "source": [
    "print(a)\n",
    "a.add(450)\n",
    "print(a)"
   ]
  },
  {
   "cell_type": "code",
   "execution_count": 45,
   "id": "64957d51",
   "metadata": {},
   "outputs": [
    {
     "name": "stdout",
     "output_type": "stream",
     "text": [
      "{450, 4, 6, 8, 9}\n",
      "{450, 4, 6, -25, 8, 9}\n"
     ]
    }
   ],
   "source": [
    "print(a)\n",
    "a.add(-25)\n",
    "print(a)"
   ]
  },
  {
   "cell_type": "code",
   "execution_count": 46,
   "id": "4fa1b82b",
   "metadata": {},
   "outputs": [
    {
     "name": "stdout",
     "output_type": "stream",
     "text": [
      "{8, 45, 6, 7}\n",
      "{56, 8, 34, 7}\n",
      "{8, 45, 6, 7}\n",
      "{8, 7}\n"
     ]
    }
   ],
   "source": [
    "s = {45,6,7,8}\n",
    "q = {56,7,8,34}\n",
    "print(s)\n",
    "print(q)\n",
    "q.intersection_update(s)\n",
    "print(s)\n",
    "print(q)"
   ]
  },
  {
   "cell_type": "code",
   "execution_count": 47,
   "id": "1ea7491f",
   "metadata": {},
   "outputs": [
    {
     "name": "stdout",
     "output_type": "stream",
     "text": [
      "{3, 5, 6, 89, 45}\n",
      "{89, 4, 5, 630}\n",
      "{3, 6, 45}\n",
      "{89, 4, 5, 630}\n"
     ]
    }
   ],
   "source": [
    "z = {45,89,5,3,6}\n",
    "a = {4,89,5,630}\n",
    "print(z)\n",
    "print(a)\n",
    "z.difference_update(a)\n",
    "print(z)\n",
    "print(a)"
   ]
  },
  {
   "cell_type": "code",
   "execution_count": 49,
   "id": "08d11373",
   "metadata": {},
   "outputs": [
    {
     "name": "stdout",
     "output_type": "stream",
     "text": [
      "{56, 8, 90, 7}\n",
      "{3, 67, 7, 234, 78}\n",
      "{3, 67, 8, 234, 78, 56, 90}\n",
      "{3, 67, 7, 234, 78}\n"
     ]
    }
   ],
   "source": [
    "p = {56,7,8,90}\n",
    "q = {3,67,7,234,78}\n",
    "print(p)\n",
    "print(q)\n",
    "p.symmetric_difference_update(q)\n",
    "print(p)\n",
    "print(q)"
   ]
  },
  {
   "cell_type": "code",
   "execution_count": 50,
   "id": "af06f19e",
   "metadata": {},
   "outputs": [
    {
     "name": "stdout",
     "output_type": "stream",
     "text": [
      "{5, 87, 7, 56, 89, 45}\n",
      "{5, 87, 7, 89, 45}\n"
     ]
    }
   ],
   "source": [
    "d = {45,89,56,7,87,5}\n",
    "print(d)\n",
    "d.discard(56)\n",
    "print(d)"
   ]
  },
  {
   "cell_type": "markdown",
   "id": "cf0520db",
   "metadata": {},
   "source": [
    "## String:"
   ]
  },
  {
   "cell_type": "code",
   "execution_count": 54,
   "id": "0b708449",
   "metadata": {},
   "outputs": [
    {
     "name": "stdout",
     "output_type": "stream",
     "text": [
      "This is an Example <class 'str'>\n"
     ]
    }
   ],
   "source": [
    "a = 'This is an Example'\n",
    "print(a,type(a))"
   ]
  },
  {
   "cell_type": "code",
   "execution_count": 55,
   "id": "ef9b880c",
   "metadata": {},
   "outputs": [
    {
     "name": "stdout",
     "output_type": "stream",
     "text": [
      "0 <class 'int'>\n",
      "1 <class 'int'>\n",
      "2 <class 'int'>\n",
      "3 <class 'int'>\n",
      "4 <class 'int'>\n",
      "5 <class 'int'>\n",
      "6 <class 'int'>\n",
      "7 <class 'int'>\n",
      "8 <class 'int'>\n",
      "9 <class 'int'>\n",
      "10 <class 'int'>\n",
      "11 <class 'int'>\n",
      "12 <class 'int'>\n",
      "13 <class 'int'>\n",
      "14 <class 'int'>\n",
      "15 <class 'int'>\n",
      "16 <class 'int'>\n",
      "17 <class 'int'>\n"
     ]
    }
   ],
   "source": [
    "for i in range(len(a)):\n",
    "    print(i,type(i))"
   ]
  },
  {
   "cell_type": "code",
   "execution_count": 56,
   "id": "ba5094d5",
   "metadata": {},
   "outputs": [
    {
     "name": "stdout",
     "output_type": "stream",
     "text": [
      "T <class 'str'>\n",
      "h <class 'str'>\n",
      "i <class 'str'>\n",
      "s <class 'str'>\n",
      "  <class 'str'>\n",
      "i <class 'str'>\n",
      "s <class 'str'>\n",
      "  <class 'str'>\n",
      "a <class 'str'>\n",
      "n <class 'str'>\n",
      "  <class 'str'>\n",
      "E <class 'str'>\n",
      "x <class 'str'>\n",
      "a <class 'str'>\n",
      "m <class 'str'>\n",
      "p <class 'str'>\n",
      "l <class 'str'>\n",
      "e <class 'str'>\n"
     ]
    }
   ],
   "source": [
    "for i in range(len(a)):\n",
    "    print(a[i],type(a[i]))"
   ]
  },
  {
   "cell_type": "code",
   "execution_count": 57,
   "id": "413bda51",
   "metadata": {},
   "outputs": [
    {
     "name": "stdout",
     "output_type": "stream",
     "text": [
      "T <class 'str'>\n",
      "h <class 'str'>\n",
      "i <class 'str'>\n",
      "s <class 'str'>\n",
      "  <class 'str'>\n",
      "i <class 'str'>\n",
      "s <class 'str'>\n",
      "  <class 'str'>\n",
      "a <class 'str'>\n",
      "n <class 'str'>\n",
      "  <class 'str'>\n",
      "E <class 'str'>\n",
      "x <class 'str'>\n",
      "a <class 'str'>\n",
      "m <class 'str'>\n",
      "p <class 'str'>\n",
      "l <class 'str'>\n",
      "e <class 'str'>\n"
     ]
    }
   ],
   "source": [
    "for i in a:\n",
    "    print(i,type(i))"
   ]
  },
  {
   "cell_type": "code",
   "execution_count": 58,
   "id": "5d1746e6",
   "metadata": {},
   "outputs": [
    {
     "name": "stdout",
     "output_type": "stream",
     "text": [
      "['__add__', '__class__', '__contains__', '__delattr__', '__dir__', '__doc__', '__eq__', '__format__', '__ge__', '__getattribute__', '__getitem__', '__getnewargs__', '__gt__', '__hash__', '__init__', '__init_subclass__', '__iter__', '__le__', '__len__', '__lt__', '__mod__', '__mul__', '__ne__', '__new__', '__reduce__', '__reduce_ex__', '__repr__', '__rmod__', '__rmul__', '__setattr__', '__sizeof__', '__str__', '__subclasshook__', 'capitalize', 'casefold', 'center', 'count', 'encode', 'endswith', 'expandtabs', 'find', 'format', 'format_map', 'index', 'isalnum', 'isalpha', 'isascii', 'isdecimal', 'isdigit', 'isidentifier', 'islower', 'isnumeric', 'isprintable', 'isspace', 'istitle', 'isupper', 'join', 'ljust', 'lower', 'lstrip', 'maketrans', 'partition', 'removeprefix', 'removesuffix', 'replace', 'rfind', 'rindex', 'rjust', 'rpartition', 'rsplit', 'rstrip', 'split', 'splitlines', 'startswith', 'strip', 'swapcase', 'title', 'translate', 'upper', 'zfill']\n"
     ]
    }
   ],
   "source": [
    "print(dir(str))"
   ]
  },
  {
   "cell_type": "code",
   "execution_count": 60,
   "id": "ffea78b6",
   "metadata": {},
   "outputs": [
    {
     "name": "stdout",
     "output_type": "stream",
     "text": [
      "THis IS an ExaMple\n",
      "This Is An Example\n",
      "thIS is AN eXAmPLE\n",
      "This is an example\n",
      "this is an example\n",
      "THIS IS AN EXAMPLE\n",
      "this is an example\n"
     ]
    }
   ],
   "source": [
    "h = \"THis IS an ExaMple\"\n",
    "print(h)\n",
    "print(h.title())\n",
    "print(h.swapcase())\n",
    "print(h.capitalize())\n",
    "print(h.casefold())\n",
    "print(h.upper())\n",
    "print(h.lower())"
   ]
  },
  {
   "cell_type": "code",
   "execution_count": 63,
   "id": "bc3f3aa0",
   "metadata": {},
   "outputs": [
    {
     "name": "stdout",
     "output_type": "stream",
     "text": [
      "    THis is an Example\n",
      "Raju is Good AT Teaching   \n",
      "THis is an Example\n",
      "Raju is Good AT Teaching\n",
      "THis is an Example\n",
      "Raju is Good AT Teaching\n"
     ]
    }
   ],
   "source": [
    "a = \"    THis is an Example\"\n",
    "b = \"Raju is Good AT Teaching   \"\n",
    "print(a)\n",
    "print(b)\n",
    "print(a.strip())\n",
    "print(b.strip())\n",
    "print(a.lstrip())\n",
    "print(b.rstrip())"
   ]
  },
  {
   "cell_type": "code",
   "execution_count": 65,
   "id": "b268d553",
   "metadata": {},
   "outputs": [
    {
     "name": "stdout",
     "output_type": "stream",
     "text": [
      "    THis is an Example\n",
      "6\n",
      "9\n"
     ]
    }
   ],
   "source": [
    "print(a)\n",
    "print(a.index('i'))\n",
    "print(a.rindex('i'))"
   ]
  },
  {
   "cell_type": "code",
   "execution_count": 66,
   "id": "d3971082",
   "metadata": {},
   "outputs": [
    {
     "ename": "ValueError",
     "evalue": "substring not found",
     "output_type": "error",
     "traceback": [
      "\u001b[1;31m---------------------------------------------------------------------------\u001b[0m",
      "\u001b[1;31mValueError\u001b[0m                                Traceback (most recent call last)",
      "Cell \u001b[1;32mIn[66], line 1\u001b[0m\n\u001b[1;32m----> 1\u001b[0m \u001b[38;5;28mprint\u001b[39m(\u001b[43ma\u001b[49m\u001b[38;5;241;43m.\u001b[39;49m\u001b[43mindex\u001b[49m\u001b[43m(\u001b[49m\u001b[38;5;124;43m'\u001b[39;49m\u001b[38;5;124;43mz\u001b[39;49m\u001b[38;5;124;43m'\u001b[39;49m\u001b[43m)\u001b[49m)\n",
      "\u001b[1;31mValueError\u001b[0m: substring not found"
     ]
    }
   ],
   "source": [
    "print(a.index('z'))"
   ]
  },
  {
   "cell_type": "code",
   "execution_count": 67,
   "id": "a8871566",
   "metadata": {},
   "outputs": [
    {
     "ename": "ValueError",
     "evalue": "substring not found",
     "output_type": "error",
     "traceback": [
      "\u001b[1;31m---------------------------------------------------------------------------\u001b[0m",
      "\u001b[1;31mValueError\u001b[0m                                Traceback (most recent call last)",
      "Cell \u001b[1;32mIn[67], line 1\u001b[0m\n\u001b[1;32m----> 1\u001b[0m \u001b[38;5;28mprint\u001b[39m(\u001b[43ma\u001b[49m\u001b[38;5;241;43m.\u001b[39;49m\u001b[43mrindex\u001b[49m\u001b[43m(\u001b[49m\u001b[38;5;124;43m'\u001b[39;49m\u001b[38;5;124;43mz\u001b[39;49m\u001b[38;5;124;43m'\u001b[39;49m\u001b[43m)\u001b[49m)\n",
      "\u001b[1;31mValueError\u001b[0m: substring not found"
     ]
    }
   ],
   "source": [
    "print(a.rindex('z'))"
   ]
  },
  {
   "cell_type": "code",
   "execution_count": 69,
   "id": "bc5a7776",
   "metadata": {},
   "outputs": [
    {
     "name": "stdout",
     "output_type": "stream",
     "text": [
      "    THis is an Example\n",
      "15\n",
      "21\n"
     ]
    }
   ],
   "source": [
    "print(a)\n",
    "print(a.find('E'))\n",
    "print(a.rfind('e'))"
   ]
  },
  {
   "cell_type": "code",
   "execution_count": 70,
   "id": "fb05c0f0",
   "metadata": {},
   "outputs": [
    {
     "name": "stdout",
     "output_type": "stream",
     "text": [
      "    THis is an Example\n",
      "-1\n",
      "-1\n"
     ]
    }
   ],
   "source": [
    "print(a)\n",
    "print(a.find('v'))\n",
    "print(a.rfind('v'))"
   ]
  },
  {
   "cell_type": "code",
   "execution_count": 71,
   "id": "f6942f99",
   "metadata": {},
   "outputs": [
    {
     "name": "stdout",
     "output_type": "stream",
     "text": [
      "    THis is an Example\n",
      "    THis is an Pxample\n",
      "    THis is an Example\n"
     ]
    }
   ],
   "source": [
    "print(a)\n",
    "print(a.replace('E','P'))\n",
    "print(a)"
   ]
  },
  {
   "cell_type": "code",
   "execution_count": 74,
   "id": "bf14c988",
   "metadata": {},
   "outputs": [
    {
     "name": "stdout",
     "output_type": "stream",
     "text": [
      "    THis is an Example\n",
      "    THis is an Example        \n",
      "            THis is an Example\n",
      "        THis is an Example    \n",
      "00000000    THis is an Example\n"
     ]
    }
   ],
   "source": [
    "print(a)\n",
    "print(a.ljust(30))\n",
    "print(a.rjust(30))\n",
    "print(a.center(30))\n",
    "print(a.zfill(30))"
   ]
  },
  {
   "cell_type": "code",
   "execution_count": 76,
   "id": "292ee73c",
   "metadata": {},
   "outputs": [
    {
     "name": "stdout",
     "output_type": "stream",
     "text": [
      "1,5,9,6,7\n",
      "['1', '5', '9', '6', '7'] <class 'list'>\n"
     ]
    }
   ],
   "source": [
    "n = input().split(\",\")\n",
    "print(n,type(n))"
   ]
  },
  {
   "cell_type": "code",
   "execution_count": 78,
   "id": "12281ef4",
   "metadata": {},
   "outputs": [
    {
     "name": "stdout",
     "output_type": "stream",
     "text": [
      "    THis is an Example\n",
      "['    TH', 's ', 's an Example']\n",
      "    THis is an Example\n"
     ]
    }
   ],
   "source": [
    "print(a)\n",
    "print(a.split('i'))\n",
    "print(a)"
   ]
  },
  {
   "cell_type": "code",
   "execution_count": 79,
   "id": "63e39d3d",
   "metadata": {},
   "outputs": [
    {
     "name": "stdout",
     "output_type": "stream",
     "text": [
      "    THis is an Example\n",
      "['    TH', 's ', 's an Example']\n",
      "    THis is an Example\n"
     ]
    }
   ],
   "source": [
    "print(a)\n",
    "print(a.rsplit('i'))\n",
    "print(a)"
   ]
  },
  {
   "cell_type": "code",
   "execution_count": 80,
   "id": "1730f4ec",
   "metadata": {},
   "outputs": [
    {
     "name": "stdout",
     "output_type": "stream",
     "text": [
      "    THis is an Example\n",
      " - - - -T-H-i-s- -i-s- -a-n- -E-x-a-m-p-l-e\n",
      "    THis is an Example\n"
     ]
    }
   ],
   "source": [
    "print(a)\n",
    "print(\"-\".join(a))\n",
    "print(a)"
   ]
  },
  {
   "cell_type": "code",
   "execution_count": 88,
   "id": "27006660",
   "metadata": {},
   "outputs": [
    {
     "name": "stdout",
     "output_type": "stream",
     "text": [
      "Enter a character to print ASCII Value: z\n",
      "z ASCII Value is: 122\n"
     ]
    }
   ],
   "source": [
    "n = input(\"Enter a character to print ASCII Value: \")\n",
    "print(f\"{n} ASCII Value is: {ord(n)}\")"
   ]
  },
  {
   "cell_type": "code",
   "execution_count": 90,
   "id": "4b0ca03a",
   "metadata": {},
   "outputs": [
    {
     "name": "stdout",
     "output_type": "stream",
     "text": [
      "Enter ASCII Value: 122\n",
      "122 ASCII Character is: z\n"
     ]
    }
   ],
   "source": [
    "y = int(input(\"Enter ASCII Value: \"))\n",
    "print(f\"{y} ASCII Character is: {chr(y)}\")"
   ]
  },
  {
   "cell_type": "code",
   "execution_count": 92,
   "id": "6ab6db2a",
   "metadata": {},
   "outputs": [
    {
     "name": "stdout",
     "output_type": "stream",
     "text": [
      "0:\u0000\t1:\u0001\t2:\u0002\t3:\u0003\t4:\u0004\t5:\u0005\t6:\u0006\t7:\u0007\t8:\b\t9:\t\t10:\n",
      "\t11:\u000b",
      "\t12:\f",
      "\t13:\r",
      "\t14:\u000e\t15:\u000f\t16:\u0010\t17:\u0011\t18:\u0012\t19:\u0013\t20:\u0014\t21:\u0015\t22:\u0016\t23:\u0017\t24:\u0018\t25:\u0019\t26:\u001a\t27:\u001b\t28:\u001c",
      "\t29:\u001d",
      "\t30:\u001e",
      "\t31:\u001f\t32: \t33:!\t34:\"\t35:#\t36:$\t37:%\t38:&\t39:'\t40:(\t41:)\t42:*\t43:+\t44:,\t45:-\t46:.\t47:/\t48:0\t49:1\t50:2\t51:3\t52:4\t53:5\t54:6\t55:7\t56:8\t57:9\t58::\t59:;\t60:<\t61:=\t62:>\t63:?\t64:@\t65:A\t66:B\t67:C\t68:D\t69:E\t70:F\t71:G\t72:H\t73:I\t74:J\t75:K\t76:L\t77:M\t78:N\t79:O\t80:P\t81:Q\t82:R\t83:S\t84:T\t85:U\t86:V\t87:W\t88:X\t89:Y\t90:Z\t91:[\t92:\\\t93:]\t94:^\t95:_\t96:`\t97:a\t98:b\t99:c\t100:d\t101:e\t102:f\t103:g\t104:h\t105:i\t106:j\t107:k\t108:l\t109:m\t110:n\t111:o\t112:p\t113:q\t114:r\t115:s\t116:t\t117:u\t118:v\t119:w\t120:x\t121:y\t122:z\t123:{\t124:|\t125:}\t126:~\t127:\t128:\t129:\t130:\t131:\t132:\t133:",
      "\t134:\t135:\t136:\t137:\t138:\t139:\t140:\t141:\t142:\t143:\t144:\t145:\t146:\t147:\t148:\t149:\t150:\t151:\t152:\t153:\t154:\t155:\t156:\t157:\t158:\t159:\t160: \t161:¡\t162:¢\t163:£\t164:¤\t165:¥\t166:¦\t167:§\t168:¨\t169:©\t170:ª\t171:«\t172:¬\t173:­\t174:®\t175:¯\t176:°\t177:±\t178:²\t179:³\t180:´\t181:µ\t182:¶\t183:·\t184:¸\t185:¹\t186:º\t187:»\t188:¼\t189:½\t190:¾\t191:¿\t192:À\t193:Á\t194:Â\t195:Ã\t196:Ä\t197:Å\t198:Æ\t199:Ç\t200:È\t201:É\t202:Ê\t203:Ë\t204:Ì\t205:Í\t206:Î\t207:Ï\t208:Ð\t209:Ñ\t210:Ò\t211:Ó\t212:Ô\t213:Õ\t214:Ö\t215:×\t216:Ø\t217:Ù\t218:Ú\t219:Û\t220:Ü\t221:Ý\t222:Þ\t223:ß\t224:à\t225:á\t226:â\t227:ã\t228:ä\t229:å\t230:æ\t231:ç\t232:è\t233:é\t234:ê\t235:ë\t236:ì\t237:í\t238:î\t239:ï\t240:ð\t241:ñ\t242:ò\t243:ó\t244:ô\t245:õ\t246:ö\t247:÷\t248:ø\t249:ù\t250:ú\t251:û\t252:ü\t253:ý\t254:þ\t255:ÿ\t"
     ]
    }
   ],
   "source": [
    "for i in range(256):\n",
    "    print(f\"{i}:{chr(i)}\",end=\"\\t\")"
   ]
  },
  {
   "cell_type": "markdown",
   "id": "aa1b2280",
   "metadata": {},
   "source": [
    "## comprehensions\n",
    "  - list\n",
    "  - set\n",
    "  - Dictionary"
   ]
  },
  {
   "cell_type": "code",
   "execution_count": 93,
   "id": "75505a45",
   "metadata": {},
   "outputs": [
    {
     "name": "stdout",
     "output_type": "stream",
     "text": [
      "[0, 1, 2, 3, 4, 5, 6, 7, 8, 9]\n"
     ]
    }
   ],
   "source": [
    "a= [i for i in range(10)]\n",
    "print(a)"
   ]
  },
  {
   "cell_type": "code",
   "execution_count": 94,
   "id": "c0a5ea70",
   "metadata": {},
   "outputs": [
    {
     "name": "stdout",
     "output_type": "stream",
     "text": [
      "enter a range: 45\n",
      "[0, 1, 2, 3, 4, 5, 6, 7, 8, 9, 10, 11, 12, 13, 14, 15, 16, 17, 18, 19, 20, 21, 22, 23, 24, 25, 26, 27, 28, 29, 30, 31, 32, 33, 34, 35, 36, 37, 38, 39, 40, 41, 42, 43, 44]\n"
     ]
    }
   ],
   "source": [
    "n=[i for i in range(int(input(\"enter a range: \")))]\n",
    "print(n)"
   ]
  },
  {
   "cell_type": "code",
   "execution_count": 95,
   "id": "b312ea31",
   "metadata": {},
   "outputs": [
    {
     "name": "stdout",
     "output_type": "stream",
     "text": [
      "Enter a range: 10\n",
      "[0, 2, 4, 6, 8]\n"
     ]
    }
   ],
   "source": [
    "m = [i for i in range(int(input(\"Enter a range: \"))) if i%2==0]\n",
    "print(m)"
   ]
  },
  {
   "cell_type": "code",
   "execution_count": 97,
   "id": "d30465df",
   "metadata": {},
   "outputs": [
    {
     "name": "stdout",
     "output_type": "stream",
     "text": [
      "Enter a range: 10\n",
      "[0, -1, 2, -1, 4, -1, 6, -1, 8, -1]\n"
     ]
    }
   ],
   "source": [
    "m = [i if i%2==0 else -1 for i in range(int(input(\"Enter a range: \")))]\n",
    "print(m)"
   ]
  },
  {
   "cell_type": "code",
   "execution_count": 99,
   "id": "500b7213",
   "metadata": {},
   "outputs": [
    {
     "name": "stdout",
     "output_type": "stream",
     "text": [
      "Enter a range: 10\n",
      "[0, 1, 2, 3, 4, 5, 6, 7, 8, 9]\n"
     ]
    }
   ],
   "source": [
    "k = list(i for i in range(int(input(\"Enter a range: \"))))\n",
    "print(k)"
   ]
  },
  {
   "cell_type": "code",
   "execution_count": 100,
   "id": "f6e048e4",
   "metadata": {},
   "outputs": [
    {
     "name": "stdout",
     "output_type": "stream",
     "text": [
      "Enter a range: 10\n",
      "{0, 1, 2, 3, 4, 5, 6, 7, 8, 9}\n"
     ]
    }
   ],
   "source": [
    "k = set(i for i in range(int(input(\"Enter a range: \"))))\n",
    "print(k)"
   ]
  },
  {
   "cell_type": "code",
   "execution_count": 101,
   "id": "b881a0a9",
   "metadata": {},
   "outputs": [
    {
     "name": "stdout",
     "output_type": "stream",
     "text": [
      "Enter a range: 5\n",
      "{0, 1, 2, 3, 4}\n"
     ]
    }
   ],
   "source": [
    "g = {i for i in range(int(input(\"Enter a range: \")))}\n",
    "print(g)"
   ]
  },
  {
   "cell_type": "code",
   "execution_count": 102,
   "id": "076837e3",
   "metadata": {},
   "outputs": [
    {
     "name": "stdout",
     "output_type": "stream",
     "text": [
      "Enter a range: 20\n",
      "{0, 2, 4, 6, 8, 10, 12, 14, 16, 18, -1}\n"
     ]
    }
   ],
   "source": [
    "m = {i if i%2==0 else -1 for i in range(int(input(\"Enter a range: \")))}\n",
    "print(m)"
   ]
  },
  {
   "cell_type": "code",
   "execution_count": 103,
   "id": "1d209ff0",
   "metadata": {},
   "outputs": [
    {
     "name": "stdout",
     "output_type": "stream",
     "text": [
      "Enter a range: 10\n",
      "{0: 0, 1: 1, 2: 4, 3: 9, 4: 16, 5: 25, 6: 36, 7: 49, 8: 64, 9: 81}\n"
     ]
    }
   ],
   "source": [
    "n = {i:i**2 for i in range(int(input(\"Enter a range: \")))}\n",
    "print(n)"
   ]
  },
  {
   "cell_type": "code",
   "execution_count": 105,
   "id": "abafdfba",
   "metadata": {},
   "outputs": [
    {
     "name": "stdout",
     "output_type": "stream",
     "text": [
      "1 1 5 2 6 8 8 9\n",
      "{1: 2, 5: 1, 2: 1, 6: 1, 8: 2, 9: 1}\n"
     ]
    }
   ],
   "source": [
    "k = input().split()\n",
    "h = []\n",
    "for i in k:\n",
    "    h.append(int(i))\n",
    "v = {i:h.count(i) for i in h}\n",
    "print(v)"
   ]
  },
  {
   "cell_type": "markdown",
   "id": "487f2c18",
   "metadata": {},
   "source": [
    "## Packages and Modules:\n",
    "    Packages:\n",
    "    =========\n",
    "        - Collection of Subpackages and Modules\n",
    "    Modules:\n",
    "    ========\n",
    "        - Collection of varaibles,functions,classes and its methods\n",
    "    "
   ]
  },
  {
   "cell_type": "code",
   "execution_count": 1,
   "id": "b10ac4be",
   "metadata": {},
   "outputs": [],
   "source": [
    "import sample"
   ]
  },
  {
   "cell_type": "code",
   "execution_count": 2,
   "id": "2d8bc7a5",
   "metadata": {},
   "outputs": [
    {
     "name": "stdout",
     "output_type": "stream",
     "text": [
      "['__builtins__', '__cached__', '__doc__', '__file__', '__loader__', '__name__', '__package__', '__spec__', 'a', 'evodd']\n"
     ]
    }
   ],
   "source": [
    "print(dir(sample))"
   ]
  },
  {
   "cell_type": "code",
   "execution_count": 3,
   "id": "9971d953",
   "metadata": {},
   "outputs": [
    {
     "name": "stdout",
     "output_type": "stream",
     "text": [
      "25\n"
     ]
    }
   ],
   "source": [
    "print(sample.a)"
   ]
  },
  {
   "cell_type": "code",
   "execution_count": 5,
   "id": "0058101a",
   "metadata": {},
   "outputs": [
    {
     "name": "stdout",
     "output_type": "stream",
     "text": [
      "Enter a number: 4\n",
      "Even\n"
     ]
    }
   ],
   "source": [
    "print(sample.evodd(int(input(\"Enter a number: \"))))"
   ]
  },
  {
   "cell_type": "code",
   "execution_count": 6,
   "id": "6b96e40a",
   "metadata": {},
   "outputs": [],
   "source": [
    "from Data import demo"
   ]
  },
  {
   "cell_type": "code",
   "execution_count": 7,
   "id": "d3197125",
   "metadata": {},
   "outputs": [
    {
     "name": "stdout",
     "output_type": "stream",
     "text": [
      "['__builtins__', '__cached__', '__doc__', '__file__', '__loader__', '__name__', '__package__', '__spec__', 'h', 'pntname']\n"
     ]
    }
   ],
   "source": [
    "print(dir(demo))"
   ]
  },
  {
   "cell_type": "code",
   "execution_count": 8,
   "id": "ac4314b2",
   "metadata": {},
   "outputs": [
    {
     "name": "stdout",
     "output_type": "stream",
     "text": [
      "Suresh\n"
     ]
    }
   ],
   "source": [
    "print(demo.h)"
   ]
  },
  {
   "cell_type": "code",
   "execution_count": 10,
   "id": "58e8f25d",
   "metadata": {},
   "outputs": [
    {
     "name": "stdout",
     "output_type": "stream",
     "text": [
      "Entered name is: Rajesh\n"
     ]
    }
   ],
   "source": [
    "demo.pntname(\"Rajesh\")"
   ]
  },
  {
   "cell_type": "code",
   "execution_count": null,
   "id": "82099efb",
   "metadata": {},
   "outputs": [],
   "source": []
  }
 ],
 "metadata": {
  "kernelspec": {
   "display_name": "Python 3 (ipykernel)",
   "language": "python",
   "name": "python3"
  },
  "language_info": {
   "codemirror_mode": {
    "name": "ipython",
    "version": 3
   },
   "file_extension": ".py",
   "mimetype": "text/x-python",
   "name": "python",
   "nbconvert_exporter": "python",
   "pygments_lexer": "ipython3",
   "version": "3.9.13"
  }
 },
 "nbformat": 4,
 "nbformat_minor": 5
}
