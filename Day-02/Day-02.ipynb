{
 "cells": [
  {
   "cell_type": "code",
   "execution_count": 1,
   "id": "f9a38a34",
   "metadata": {},
   "outputs": [
    {
     "data": {
      "text/plain": [
       "20"
      ]
     },
     "execution_count": 1,
     "metadata": {},
     "output_type": "execute_result"
    }
   ],
   "source": [
    "a = 10\n",
    "b = 20\n",
    "a\n",
    "b"
   ]
  },
  {
   "cell_type": "code",
   "execution_count": 2,
   "id": "d4bcf012",
   "metadata": {},
   "outputs": [
    {
     "data": {
      "text/plain": [
       "10"
      ]
     },
     "execution_count": 2,
     "metadata": {},
     "output_type": "execute_result"
    }
   ],
   "source": [
    "b\n",
    "a"
   ]
  },
  {
   "cell_type": "code",
   "execution_count": 3,
   "id": "fc6bea70",
   "metadata": {},
   "outputs": [
    {
     "data": {
      "text/plain": [
       "(10, 20)"
      ]
     },
     "execution_count": 3,
     "metadata": {},
     "output_type": "execute_result"
    }
   ],
   "source": [
    "a,b"
   ]
  },
  {
   "cell_type": "markdown",
   "id": "b4d8c2c9",
   "metadata": {},
   "source": [
    "# Variable:\n",
    "    - To store a value\n",
    "    - To change a value\n",
    "    Syntax:\n",
    "       variablename = value "
   ]
  },
  {
   "cell_type": "markdown",
   "id": "881bfb3a",
   "metadata": {},
   "source": [
    "## Variable Assignments:\n",
    "    - single varible = single value\n",
    "    - n number of variables = n number of values\n",
    "    - n number of variables = single value"
   ]
  },
  {
   "cell_type": "code",
   "execution_count": 4,
   "id": "9ab2fa4a",
   "metadata": {},
   "outputs": [
    {
     "data": {
      "text/plain": [
       "(45, 89.154)"
      ]
     },
     "execution_count": 4,
     "metadata": {},
     "output_type": "execute_result"
    }
   ],
   "source": [
    "n,m = 45,89.154\n",
    "n,m"
   ]
  },
  {
   "cell_type": "code",
   "execution_count": 5,
   "id": "1feb5686",
   "metadata": {},
   "outputs": [
    {
     "ename": "ValueError",
     "evalue": "too many values to unpack (expected 2)",
     "output_type": "error",
     "traceback": [
      "\u001b[1;31m---------------------------------------------------------------------------\u001b[0m",
      "\u001b[1;31mValueError\u001b[0m                                Traceback (most recent call last)",
      "Cell \u001b[1;32mIn[5], line 1\u001b[0m\n\u001b[1;32m----> 1\u001b[0m n,m \u001b[38;5;241m=\u001b[39m \u001b[38;5;241m45\u001b[39m,\u001b[38;5;241m89.154\u001b[39m,\u001b[38;5;28;01mTrue\u001b[39;00m\n\u001b[0;32m      2\u001b[0m n,m\n",
      "\u001b[1;31mValueError\u001b[0m: too many values to unpack (expected 2)"
     ]
    }
   ],
   "source": [
    "n,m = 45,89.154,True\n",
    "n,m"
   ]
  },
  {
   "cell_type": "code",
   "execution_count": 6,
   "id": "2f5bf121",
   "metadata": {},
   "outputs": [
    {
     "ename": "ValueError",
     "evalue": "not enough values to unpack (expected 3, got 2)",
     "output_type": "error",
     "traceback": [
      "\u001b[1;31m---------------------------------------------------------------------------\u001b[0m",
      "\u001b[1;31mValueError\u001b[0m                                Traceback (most recent call last)",
      "Cell \u001b[1;32mIn[6], line 1\u001b[0m\n\u001b[1;32m----> 1\u001b[0m n,m,p \u001b[38;5;241m=\u001b[39m \u001b[38;5;241m45\u001b[39m,\u001b[38;5;241m89.154\u001b[39m\n\u001b[0;32m      2\u001b[0m n,m,p\n",
      "\u001b[1;31mValueError\u001b[0m: not enough values to unpack (expected 3, got 2)"
     ]
    }
   ],
   "source": [
    "n,m,p = 45,89.154\n",
    "n,m,p"
   ]
  },
  {
   "cell_type": "code",
   "execution_count": 7,
   "id": "2e2d5402",
   "metadata": {},
   "outputs": [
    {
     "data": {
      "text/plain": [
       "(45, 7895, 236)"
      ]
     },
     "execution_count": 7,
     "metadata": {},
     "output_type": "execute_result"
    }
   ],
   "source": [
    "w = 45,7895,236\n",
    "w"
   ]
  },
  {
   "cell_type": "code",
   "execution_count": 8,
   "id": "bc7ecfb8",
   "metadata": {},
   "outputs": [
    {
     "data": {
      "text/plain": [
       "(45, 45)"
      ]
     },
     "execution_count": 8,
     "metadata": {},
     "output_type": "execute_result"
    }
   ],
   "source": [
    "n = k = 45\n",
    "n,k"
   ]
  },
  {
   "cell_type": "markdown",
   "id": "c3fbf38f",
   "metadata": {},
   "source": [
    "# Data Types:\n",
    "    - int => numeric\n",
    "    - float => numeric and decimal\n",
    "    - string => ' or \"\n",
    "    - complex => real and imaginary\n",
    "    - boolean => True or False\n",
    "    - none => none\n",
    "    - All Data structures[list,tuple,set and dictionary]"
   ]
  },
  {
   "cell_type": "markdown",
   "id": "84d7d7b9",
   "metadata": {},
   "source": [
    "## Type:\n",
    "    - To know the data type of a variable\n",
    "    Syntax:\n",
    "        type(variablename)"
   ]
  },
  {
   "cell_type": "code",
   "execution_count": 9,
   "id": "ffc55604",
   "metadata": {},
   "outputs": [
    {
     "name": "stdout",
     "output_type": "stream",
     "text": [
      "1 <class 'int'>\n",
      "45.021 <class 'float'>\n",
      "Kavitha <class 'str'>\n",
      "(4+3j) <class 'complex'>\n",
      "True <class 'bool'>\n",
      "None <class 'NoneType'>\n",
      "78 <class 'str'>\n"
     ]
    }
   ],
   "source": [
    "a,b,c,d,e,f,g = 1,45.021,'Kavitha',4+3j,True,None,'78'\n",
    "print(a,type(a))\n",
    "print(b,type(b))\n",
    "print(c,type(c))\n",
    "print(d,type(d))\n",
    "print(e,type(e))\n",
    "print(f,type(f))\n",
    "print(g,type(g))\n"
   ]
  },
  {
   "cell_type": "code",
   "execution_count": 10,
   "id": "cd491a88",
   "metadata": {},
   "outputs": [
    {
     "name": "stdout",
     "output_type": "stream",
     "text": [
      "89\n"
     ]
    },
    {
     "data": {
      "text/plain": [
       "'89'"
      ]
     },
     "execution_count": 10,
     "metadata": {},
     "output_type": "execute_result"
    }
   ],
   "source": [
    "w = '89'\n",
    "print(w)\n",
    "w"
   ]
  },
  {
   "cell_type": "code",
   "execution_count": 11,
   "id": "06353d87",
   "metadata": {},
   "outputs": [
    {
     "name": "stdout",
     "output_type": "stream",
     "text": [
      "56 <class 'str'>\n"
     ]
    },
    {
     "data": {
      "text/plain": [
       "('56', str)"
      ]
     },
     "execution_count": 11,
     "metadata": {},
     "output_type": "execute_result"
    }
   ],
   "source": [
    "a = '56'\n",
    "print(a,type(a))\n",
    "a,type(a)"
   ]
  },
  {
   "cell_type": "markdown",
   "id": "3c01fc38",
   "metadata": {},
   "source": [
    "# Operators:\n",
    "    - Arithmetic => +,-,*,/,%,//,**\n",
    "    - Relational => <,>,<=,>=,!=,==\n",
    "    - Assignment => +=,-=,*=,/=,%=,//=,**=\n",
    "    - Logical => AND,OR,NOT\n",
    "    - Bitwise => &,|,!,^,>>,<<\n",
    "    - Membership => in, not in\n",
    "    - Identity => is, is not"
   ]
  },
  {
   "cell_type": "code",
   "execution_count": 13,
   "id": "f120c245",
   "metadata": {},
   "outputs": [
    {
     "name": "stdout",
     "output_type": "stream",
     "text": [
      "20\n",
      "4\n",
      "100\n"
     ]
    }
   ],
   "source": [
    "p = 100\n",
    "q = 20\n",
    "print(p and q)\n",
    "print(p & q)\n",
    "print(q and p)"
   ]
  },
  {
   "cell_type": "code",
   "execution_count": 14,
   "id": "d5aaf321",
   "metadata": {},
   "outputs": [
    {
     "name": "stdout",
     "output_type": "stream",
     "text": [
      "100\n",
      "116\n",
      "20\n"
     ]
    }
   ],
   "source": [
    "print(p or q)\n",
    "print(p | q)\n",
    "print(q or p)"
   ]
  },
  {
   "cell_type": "markdown",
   "id": "128eb18d",
   "metadata": {},
   "source": [
    "## Keywords or Reserved words"
   ]
  },
  {
   "cell_type": "code",
   "execution_count": 15,
   "id": "41f5e527",
   "metadata": {},
   "outputs": [],
   "source": [
    "import keyword"
   ]
  },
  {
   "cell_type": "code",
   "execution_count": 16,
   "id": "c47237b0",
   "metadata": {},
   "outputs": [
    {
     "name": "stdout",
     "output_type": "stream",
     "text": [
      "['__all__', '__builtins__', '__cached__', '__doc__', '__file__', '__loader__', '__name__', '__package__', '__spec__', 'iskeyword', 'issoftkeyword', 'kwlist', 'softkwlist']\n"
     ]
    }
   ],
   "source": [
    "print(dir(keyword))"
   ]
  },
  {
   "cell_type": "code",
   "execution_count": 17,
   "id": "2606e247",
   "metadata": {},
   "outputs": [
    {
     "name": "stdout",
     "output_type": "stream",
     "text": [
      "['False', 'None', 'True', '__peg_parser__', 'and', 'as', 'assert', 'async', 'await', 'break', 'class', 'continue', 'def', 'del', 'elif', 'else', 'except', 'finally', 'for', 'from', 'global', 'if', 'import', 'in', 'is', 'lambda', 'nonlocal', 'not', 'or', 'pass', 'raise', 'return', 'try', 'while', 'with', 'yield']\n"
     ]
    }
   ],
   "source": [
    "print(keyword.kwlist)"
   ]
  },
  {
   "cell_type": "markdown",
   "id": "b04055ff",
   "metadata": {},
   "source": [
    "## Input Formatting:\n",
    "    - It reads an input from a user\n",
    "    - It displays something info to a user\n",
    "    - By default it stores string data type value\n",
    "    Syntax:\n",
    "        variablename = input(\"something info\")"
   ]
  },
  {
   "cell_type": "code",
   "execution_count": 2,
   "id": "07d15e8b",
   "metadata": {},
   "outputs": [
    {
     "name": "stdout",
     "output_type": "stream",
     "text": [
      "Enter a value: rajesh\n",
      "rajesh <class 'str'>\n"
     ]
    }
   ],
   "source": [
    "n = input(\"Enter a value: \")\n",
    "print(n,type(n))"
   ]
  },
  {
   "cell_type": "markdown",
   "id": "4a68617f",
   "metadata": {},
   "source": [
    "## Output Formatting:\n",
    "    - , +\n",
    "    - %\n",
    "    - .format\n",
    "    - f"
   ]
  },
  {
   "cell_type": "code",
   "execution_count": null,
   "id": "ae22f54a",
   "metadata": {},
   "outputs": [],
   "source": []
  }
 ],
 "metadata": {
  "kernelspec": {
   "display_name": "Python 3 (ipykernel)",
   "language": "python",
   "name": "python3"
  },
  "language_info": {
   "codemirror_mode": {
    "name": "ipython",
    "version": 3
   },
   "file_extension": ".py",
   "mimetype": "text/x-python",
   "name": "python",
   "nbconvert_exporter": "python",
   "pygments_lexer": "ipython3",
   "version": "3.9.13"
  }
 },
 "nbformat": 4,
 "nbformat_minor": 5
}
