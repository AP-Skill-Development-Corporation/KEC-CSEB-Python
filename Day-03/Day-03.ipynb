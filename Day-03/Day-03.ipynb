{
 "cells": [
  {
   "cell_type": "markdown",
   "id": "9fe5c895",
   "metadata": {},
   "source": [
    "# Markdown Format"
   ]
  },
  {
   "cell_type": "markdown",
   "id": "e29c06ac",
   "metadata": {},
   "source": [
    "## Headings:\n",
    "\n",
    "# Sample\n",
    "###### demo\n",
    "####### program"
   ]
  },
  {
   "cell_type": "markdown",
   "id": "b222e679",
   "metadata": {},
   "source": [
    "## Styling text"
   ]
  },
  {
   "cell_type": "markdown",
   "id": "ad71c925",
   "metadata": {},
   "source": [
    "## Bold\n",
    "\n",
    "**This is for bold**\n",
    "__Demo for bold__\n",
    "\n",
    "## Italic\n",
    "\n",
    "_This is for italic_\n",
    "*demo for italic*\n",
    "\n",
    "## Strike Through\n",
    "\n",
    "~~Demo for strike through~~\n",
    "\n",
    "## Bold and Nested Italic \n",
    "\n",
    "**Ramu is Good at *Teaching* in Academics**\n",
    "\n",
    "## All Bold and Nested Italic\n",
    "\n",
    "***This is for all bold and nested italic*** \n"
   ]
  },
  {
   "cell_type": "markdown",
   "id": "b2dd1554",
   "metadata": {},
   "source": [
    "## Quoting Text\n",
    "\n",
    "> This is sample example for quoring text"
   ]
  },
  {
   "cell_type": "markdown",
   "id": "2b9355b2",
   "metadata": {},
   "source": [
    "## Quoting Code\n",
    "\n",
    "`Chapter-1`\n",
    "\n",
    "`` Chapter-1 ``\n",
    "`` Chapter-2 ``\n",
    "\n",
    "```\n",
    "Sample\n",
    "Example for \n",
    "Quoting Code\n",
    "```"
   ]
  },
  {
   "cell_type": "markdown",
   "id": "2a672416",
   "metadata": {},
   "source": [
    "## Links:\n",
    "    \n",
    "Google [Click Here](https://www.google.com/)\n",
    "\n",
    "## Section\n",
    "\n",
    "## Relative Link\n",
    "\n",
    "Python file [Click Here](sample.py)\n",
    "\n",
    "Image [View](demo.png)"
   ]
  },
  {
   "cell_type": "markdown",
   "id": "badcfa95",
   "metadata": {},
   "source": [
    "## Image\n",
    "\n",
    "![View](demo.png)\n",
    "\n",
    "![Demo](data:image/jpeg;base64,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)"
   ]
  },
  {
   "cell_type": "markdown",
   "id": "2067c547",
   "metadata": {},
   "source": [
    "## Typecasting:\n",
    "    - To change one data type to another data type\n",
    "    - int()\n",
    "    - float()\n",
    "    - str()\n",
    "    - complex()\n",
    "    - All Data Structures [list(),tuple(),set() and dict()]"
   ]
  },
  {
   "cell_type": "markdown",
   "id": "ed2e7288",
   "metadata": {},
   "source": [
    "```\n",
    "    Input:\n",
    "    ======\n",
    "    Enter a value: 2 \n",
    "    Enter b value: 6\n",
    "    \n",
    "    Output:\n",
    "    =======\n",
    "    Addition of 2 and 6 is: 8 \n",
    "```"
   ]
  },
  {
   "cell_type": "code",
   "execution_count": 4,
   "id": "cd03958f",
   "metadata": {},
   "outputs": [
    {
     "name": "stdout",
     "output_type": "stream",
     "text": [
      "Enter a value: 1\n",
      "Enter b value: 5\n",
      "Addition of 1 and 5 is: 15\n",
      "Addition of 1 and 5 is: 15\n"
     ]
    }
   ],
   "source": [
    "c = input(\"Enter a value: \")\n",
    "s = input(\"Enter b value: \")\n",
    "print(\"Addition of\",c,\"and\",s,\"is:\",c+s)\n",
    "print(\"Addition of \"+c+\" and \"+s+\" is: \"+c+s)"
   ]
  },
  {
   "cell_type": "code",
   "execution_count": 3,
   "id": "b76f940f",
   "metadata": {},
   "outputs": [
    {
     "name": "stdout",
     "output_type": "stream",
     "text": [
      "Enter a value: 1\n",
      "Enter b value: 6\n",
      "Addition of 1 and 6 is: 7\n",
      "Addition of 1 and 6 is: 7\n",
      "Addition of 1 and 6 is: 7\n",
      "Addition of 6 and 1 is: 7\n",
      "Addition of 1 and 6 is: 7\n"
     ]
    }
   ],
   "source": [
    "c = int(input(\"Enter a value: \"))\n",
    "s = int(input(\"Enter b value: \"))\n",
    "print(\"Addition of\",c,\"and\",s,\"is:\",c+s)\n",
    "print(\"Addition of %d and %d is: %d\"%(c,s,c+s))\n",
    "print(\"Addition of {} and {} is: {}\".format(c,s,c+s))\n",
    "print(\"Addition of {1} and {0} is: {2}\".format(c,s,c+s))\n",
    "print(f\"Addition of {c} and {s} is: {c+s}\")"
   ]
  },
  {
   "cell_type": "markdown",
   "id": "0ee89e9d",
   "metadata": {},
   "source": [
    "## Conditional Statements:\n",
    "    - if\n",
    "    - if-else\n",
    "    - nested if\n",
    "    - elif"
   ]
  },
  {
   "cell_type": "markdown",
   "id": "929ae579",
   "metadata": {},
   "source": [
    "```\n",
    "Input:\n",
    "    Enter a number: 12\n",
    "    \n",
    "Output:\n",
    "    Given number is 12 and it is equal to 12\n",
    "```"
   ]
  },
  {
   "cell_type": "code",
   "execution_count": 5,
   "id": "2757ee4c",
   "metadata": {},
   "outputs": [
    {
     "name": "stdout",
     "output_type": "stream",
     "text": [
      "Enter a number: 12\n",
      "Given number is 12 and it is equal to 12\n"
     ]
    }
   ],
   "source": [
    "n = int(input(\"Enter a number: \"))\n",
    "if n == 12:\n",
    "    print(f\"Given number is {n} and it is equal to 12\")"
   ]
  },
  {
   "cell_type": "code",
   "execution_count": 8,
   "id": "a3ebb8bd",
   "metadata": {},
   "outputs": [
    {
     "name": "stdout",
     "output_type": "stream",
     "text": [
      "Enter a number to fix: 5\n",
      "Enter a number: 5\n",
      "Given number is 5 and it is equal to 5\n"
     ]
    }
   ],
   "source": [
    "m = int(input(\"Enter a number to fix: \"))\n",
    "n = int(input(\"Enter a number: \"))\n",
    "if n == m:\n",
    "    print(f\"Given number is {n} and it is equal to {m}\")"
   ]
  },
  {
   "cell_type": "code",
   "execution_count": 13,
   "id": "b82d2e73",
   "metadata": {},
   "outputs": [
    {
     "name": "stdout",
     "output_type": "stream",
     "text": [
      "Enter a number: 44\n",
      "Entered number 44 is Even\n"
     ]
    }
   ],
   "source": [
    "n = int(input(\"Enter a number: \"))\n",
    "if n%2==0:\n",
    "    print(f\"Entered number {n} is Even\")\n",
    "else:\n",
    "    print(f\"Entered number {n} is Odd\")"
   ]
  },
  {
   "cell_type": "code",
   "execution_count": 14,
   "id": "3238db2f",
   "metadata": {},
   "outputs": [
    {
     "name": "stdout",
     "output_type": "stream",
     "text": [
      "Enter a number: 5\n",
      "1\n",
      "5\n",
      "20\n"
     ]
    }
   ],
   "source": [
    "y = int(input(\"Enter a number: \"))\n",
    "if y%3==0:\n",
    "    k = int(input())\n",
    "    print(3*k*k)\n",
    "else:\n",
    "    a = int(input())\n",
    "    b = int(input())\n",
    "    print(5*a*a+3*b)"
   ]
  },
  {
   "cell_type": "code",
   "execution_count": null,
   "id": "b9eea20c",
   "metadata": {},
   "outputs": [],
   "source": []
  }
 ],
 "metadata": {
  "kernelspec": {
   "display_name": "Python 3 (ipykernel)",
   "language": "python",
   "name": "python3"
  },
  "language_info": {
   "codemirror_mode": {
    "name": "ipython",
    "version": 3
   },
   "file_extension": ".py",
   "mimetype": "text/x-python",
   "name": "python",
   "nbconvert_exporter": "python",
   "pygments_lexer": "ipython3",
   "version": "3.9.13"
  }
 },
 "nbformat": 4,
 "nbformat_minor": 5
}
