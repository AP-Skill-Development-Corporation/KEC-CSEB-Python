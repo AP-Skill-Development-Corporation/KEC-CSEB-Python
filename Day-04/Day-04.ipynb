{
 "cells": [
  {
   "cell_type": "code",
   "execution_count": 7,
   "id": "1d3ef293",
   "metadata": {},
   "outputs": [
    {
     "name": "stdout",
     "output_type": "stream",
     "text": [
      "Enter dept:ece\n",
      "Enter year:2\n",
      "Year is: 2 and your branch is: ece\n"
     ]
    }
   ],
   "source": [
    "dept=input(\"Enter dept:\")\n",
    "year=int(input(\"Enter year:\"))\n",
    "if year == 2:\n",
    "    if dept == 'cse':\n",
    "        print(f\"Entered Year is: {year}year and your branch is: {dept}\")\n",
    "    else:\n",
    "        print(f\"Year is: {year} and your branch is: {dept}\")\n",
    "else:\n",
    "    print(f\"Year is: {year} and your branch is: {dept}\")"
   ]
  },
  {
   "cell_type": "code",
   "execution_count": 9,
   "id": "298f775a",
   "metadata": {},
   "outputs": [
    {
     "name": "stdout",
     "output_type": "stream",
     "text": [
      "enter year: 2\n",
      "enter name: sai\n",
      "your name is sai and your year is 2\n"
     ]
    }
   ],
   "source": [
    "year=int(input(\"enter year: \"))\n",
    "if(year==2):\n",
    "    name=input(\"enter name: \")\n",
    "    if(name==\"sai\"):\n",
    "        print(f\"Welcome user {name} and your year is {year}\")\n",
    "    else:\n",
    "        print(f\"your name is {name} and you are not in the list\")\n",
    "else:\n",
    "    print(f\"your year is {year} not belonging for 2nd year\")\n",
    "    "
   ]
  },
  {
   "cell_type": "code",
   "execution_count": 11,
   "id": "fdad4205",
   "metadata": {},
   "outputs": [
    {
     "name": "stdout",
     "output_type": "stream",
     "text": [
      "enter year: 2\n",
      "enter name: sai\n",
      "Welcome user sai and your year is 2\n"
     ]
    }
   ],
   "source": [
    "year=int(input(\"enter year: \"))\n",
    "name=input(\"enter name: \")\n",
    "if(year==2) and (name==\"sai\"):\n",
    "    print(f\"Welcome user {name} and your year is {year}\")\n",
    "else:\n",
    "    print(f\"your year is {year} and name is {name} are not equal\")"
   ]
  },
  {
   "cell_type": "markdown",
   "id": "bd531a8d",
   "metadata": {},
   "source": [
    "## elif"
   ]
  },
  {
   "cell_type": "code",
   "execution_count": 18,
   "id": "abaccc6c",
   "metadata": {},
   "outputs": [
    {
     "name": "stdout",
     "output_type": "stream",
     "text": [
      "Enter a number 20\n",
      "20 is even and greater than 50\n"
     ]
    }
   ],
   "source": [
    "nums=int(input(\"Enter a number \"))\n",
    "if nums<100 and nums>50:\n",
    "    print(f\"{nums} is range of 100 and 50\")\n",
    "elif nums<50 and nums%2==0:\n",
    "    print(f\"{nums} is even and greater than 50\")\n",
    "elif nums<100 :\n",
    "    print(f\"{nums} is less than 100 \")\n",
    "else:\n",
    "    print(f\"{nums} is greater than 100\")"
   ]
  },
  {
   "cell_type": "markdown",
   "id": "3fe65c60",
   "metadata": {},
   "source": [
    "## Loops\n",
    "    - To iterate the program for n number of times\n",
    "    - for => known ranges\n",
    "    - while => known and unknown ranges [infinity]"
   ]
  },
  {
   "cell_type": "markdown",
   "id": "88a17c3c",
   "metadata": {},
   "source": [
    "## for\n",
    "    Syntax:\n",
    "        for iterationvariablename in range(start,stop,step):\n",
    "            //statements\n",
    "                        or\n",
    "        for iterationvariablename in iterator:\n",
    "            //statements"
   ]
  },
  {
   "cell_type": "markdown",
   "id": "94ce1643",
   "metadata": {},
   "source": [
    "## range:\n",
    "    - range(stop)\n",
    "        => By default ti starts with 0\n",
    "        => It increments with +1 value\n",
    "        => It stops with stop-1 value\n",
    "        Ex:\n",
    "            range(6)\n",
    "                0 1 2 3 4 5\n",
    "    - range(start,stop)\n",
    "        => It starts exactly with start value\n",
    "        => It increments with +1 value\n",
    "        => It stops with stop-1 value\n",
    "        Ex:\n",
    "            range(5,8)\n",
    "                5 6 7\n",
    "    - range(start,stop,step)\n",
    "        => It starts exactly with start value\n",
    "        => It increments/decremnets with step value\n",
    "        => It stops with stop-1 value\n",
    "        Ex:\n",
    "            range(10,20,4)\n",
    "                10 14 18"
   ]
  },
  {
   "cell_type": "code",
   "execution_count": 24,
   "id": "12fdb9b0",
   "metadata": {},
   "outputs": [
    {
     "name": "stdout",
     "output_type": "stream",
     "text": [
      "Enter a range: 4\n",
      "0 1 2 3 "
     ]
    }
   ],
   "source": [
    "n = int(input(\"Enter a range: \"))\n",
    "for i in range(n):\n",
    "    print(i,end=\" \")"
   ]
  },
  {
   "cell_type": "code",
   "execution_count": 25,
   "id": "b6ddf364",
   "metadata": {},
   "outputs": [
    {
     "name": "stdout",
     "output_type": "stream",
     "text": [
      "Enter a range: 10\n",
      "9 8 7 6 5 4 3 2 1 0 "
     ]
    }
   ],
   "source": [
    "n = int(input(\"Enter a range: \"))\n",
    "for i in range(n):\n",
    "    print(n-i-1,end=\" \")"
   ]
  },
  {
   "cell_type": "code",
   "execution_count": 29,
   "id": "8a61ab7d",
   "metadata": {},
   "outputs": [
    {
     "name": "stdout",
     "output_type": "stream",
     "text": [
      "Enter a range: 12\n",
      "00 01 02 03 04 05 06 07 08 09 10 11 "
     ]
    }
   ],
   "source": [
    "n = int(input(\"Enter a range: \"))\n",
    "for i in range(n):\n",
    "    if i>=10:\n",
    "        print(i,end=\" \")\n",
    "    else:\n",
    "        print(\"0\"+str(i),end=\" \")"
   ]
  },
  {
   "cell_type": "code",
   "execution_count": 32,
   "id": "91906ded",
   "metadata": {},
   "outputs": [
    {
     "name": "stdout",
     "output_type": "stream",
     "text": [
      "Enter a range: 105\n",
      "000 001 002 003 004 005 006 007 008 009 010 011 012 013 014 015 016 017 018 019 020 021 022 023 024 025 026 027 028 029 030 031 032 033 034 035 036 037 038 039 040 041 042 043 044 045 046 047 048 049 050 051 052 053 054 055 056 057 058 059 060 061 062 063 064 065 066 067 068 069 070 071 072 073 074 075 076 077 078 079 080 081 082 083 084 085 086 087 088 089 090 091 092 093 094 095 096 097 098 099 100 101 102 103 104 "
     ]
    }
   ],
   "source": [
    "m = int(input(\"Enter a range: \"))\n",
    "for i in range(m):\n",
    "    print(f\"{i:03}\",end=\" \")"
   ]
  },
  {
   "cell_type": "code",
   "execution_count": 33,
   "id": "d6569e1f",
   "metadata": {},
   "outputs": [
    {
     "name": "stdout",
     "output_type": "stream",
     "text": [
      "Enter start range: 10\n",
      "Enter end range: 50\n",
      "10 11 12 13 14 15 16 17 18 19 20 21 22 23 24 25 26 27 28 29 30 31 32 33 34 35 36 37 38 39 40 41 42 43 44 45 46 47 48 49 "
     ]
    }
   ],
   "source": [
    "n = int(input(\"Enter start range: \"))\n",
    "m = int(input(\"Enter end range: \"))\n",
    "for j in range(n,m):\n",
    "    print(j,end=\" \")"
   ]
  },
  {
   "cell_type": "code",
   "execution_count": 37,
   "id": "77bcaf27",
   "metadata": {},
   "outputs": [
    {
     "name": "stdout",
     "output_type": "stream",
     "text": [
      "Enter start range: 12\n",
      "Enter end range: 59\n",
      "58 57 56 55 54 53 52 51 50 49 48 47 46 45 44 43 42 41 40 39 38 37 36 35 34 33 32 31 30 29 28 27 26 25 24 23 22 21 20 19 18 17 16 15 14 13 12 "
     ]
    }
   ],
   "source": [
    "n=int(input(\"Enter start range: \"))\n",
    "m=int(input(\"Enter end range: \"))\n",
    "for j in range(n,m):\n",
    "    print(n+m-j-1,end=\" \")"
   ]
  },
  {
   "cell_type": "code",
   "execution_count": 44,
   "id": "1fd38974",
   "metadata": {},
   "outputs": [
    {
     "name": "stdout",
     "output_type": "stream",
     "text": [
      "Enter starting range: 20\n",
      "Enter ending range: 50\n",
      "Enter step range: 6\n",
      "20 26 32 38 44 "
     ]
    }
   ],
   "source": [
    "st = int(input(\"Enter starting range: \"))\n",
    "en = int(input(\"Enter ending range: \"))\n",
    "sp = int(input(\"Enter step range: \"))\n",
    "for i in range(st,en,sp):\n",
    "    print(i,end=\" \")"
   ]
  },
  {
   "cell_type": "markdown",
   "id": "5dfe813b",
   "metadata": {},
   "source": [
    "## While\n",
    "    Syntax:\n",
    "        initialization\n",
    "        while condition:\n",
    "            //statements\n",
    "            incr/decr"
   ]
  },
  {
   "cell_type": "code",
   "execution_count": 45,
   "id": "7c3b6126",
   "metadata": {},
   "outputs": [
    {
     "name": "stdout",
     "output_type": "stream",
     "text": [
      "Enter a range: 5\n",
      "0 1 2 3 4 "
     ]
    }
   ],
   "source": [
    "i=0\n",
    "n = int(input(\"Enter a range: \"))\n",
    "while i<n:\n",
    "    print(i,end=\" \")\n",
    "    i+=1"
   ]
  },
  {
   "cell_type": "code",
   "execution_count": 48,
   "id": "aab04ea4",
   "metadata": {},
   "outputs": [
    {
     "name": "stdout",
     "output_type": "stream",
     "text": [
      "Enter a range: 10\n",
      "9 8 7 6 5 4 3 2 1 0 "
     ]
    }
   ],
   "source": [
    "m = int(input(\"Enter a range: \"))\n",
    "while m!=0:\n",
    "    print(m-i-1,end=\" \")\n",
    "    m -=1"
   ]
  },
  {
   "cell_type": "code",
   "execution_count": 56,
   "id": "71a8dd22",
   "metadata": {},
   "outputs": [
    {
     "name": "stdout",
     "output_type": "stream",
     "text": [
      "Enter a Number:1123\n",
      "3211\n"
     ]
    }
   ],
   "source": [
    "n=int(input(\"Enter a Number:\"))\n",
    "s=0\n",
    "while n!=0:\n",
    "    s=(s*10)+n%10\n",
    "    n=n//10   \n",
    "print(s)"
   ]
  },
  {
   "cell_type": "markdown",
   "id": "8284c7d5",
   "metadata": {},
   "source": [
    "## Jumping Statements:\n",
    "    - break => It exits from a loop\n",
    "    - continue => It skips a value from loop\n",
    "    - pass => Its similar like continue but for future enhancements we can prefer to modify the logic\n",
    "    - return => It can be used in functions to return single value or an iterator"
   ]
  },
  {
   "cell_type": "code",
   "execution_count": 2,
   "id": "e5c2573b",
   "metadata": {},
   "outputs": [
    {
     "name": "stdout",
     "output_type": "stream",
     "text": [
      "enter a value:10\n",
      "0\n",
      "1\n",
      "2\n",
      "3\n",
      "4\n"
     ]
    }
   ],
   "source": [
    "n=int(input(\"enter a value:\"))\n",
    "for i in range(n):\n",
    "    if i==5:\n",
    "        break\n",
    "    print(i)"
   ]
  },
  {
   "cell_type": "code",
   "execution_count": 4,
   "id": "735807ff",
   "metadata": {},
   "outputs": [
    {
     "name": "stdout",
     "output_type": "stream",
     "text": [
      "enter a value:10\n",
      "0 1 2 3 4 6 7 8 9 "
     ]
    }
   ],
   "source": [
    "n=int(input(\"enter a value:\"))\n",
    "for i in range(n):\n",
    "    if i==5:\n",
    "        continue\n",
    "    print(i,end=\" \")"
   ]
  },
  {
   "cell_type": "code",
   "execution_count": 7,
   "id": "3bdc0dcf",
   "metadata": {},
   "outputs": [
    {
     "name": "stdout",
     "output_type": "stream",
     "text": [
      "enter a value:10\n",
      "0 1 2 3 4 6 7 8 9 "
     ]
    }
   ],
   "source": [
    "n=int(input(\"enter a value:\"))\n",
    "for i in range(n):\n",
    "    if i==5:\n",
    "        pass\n",
    "    else:\n",
    "        print(i,end=\" \")"
   ]
  },
  {
   "cell_type": "code",
   "execution_count": 10,
   "id": "2f071eae",
   "metadata": {},
   "outputs": [
    {
     "name": "stdout",
     "output_type": "stream",
     "text": [
      "1.Name\n",
      "2.Roll Number\n",
      "3.Age\n",
      "4.Exit\n",
      "\n",
      "Enter an option: 1\n",
      "Enter a name: prasad\n",
      "Entered name is: prasad\n",
      "1.Name\n",
      "2.Roll Number\n",
      "3.Age\n",
      "4.Exit\n",
      "\n",
      "Enter an option: 4\n",
      "Thankyou Visit Again\n"
     ]
    }
   ],
   "source": [
    "while True:\n",
    "    print(\"1.Name\\n2.Roll Number\\n3.Age\\n4.Exit\\n\")\n",
    "    p = int(input(\"Enter an option: \"))\n",
    "    if p==1:\n",
    "        b = input(\"Enter a name: \")\n",
    "        print(f\"Entered name is: {b}\")\n",
    "    elif p==2:\n",
    "        c = input(\"Enter Roll Number: \")\n",
    "        print(f\"Entered Roll Number is: {c}\")\n",
    "    elif p==3:\n",
    "        d = input(\"Enter Age: \")\n",
    "        print(f\"Entered Age is: {d}\")\n",
    "    elif p==4:\n",
    "        print(\"Thankyou Visit Again\")\n",
    "        break\n",
    "    else:\n",
    "        print(\"Invalid option\")"
   ]
  },
  {
   "cell_type": "markdown",
   "id": "b9a3d0cb",
   "metadata": {},
   "source": [
    "## Inner Loops:\n",
    "\n",
    "    - Loop within a Loop"
   ]
  },
  {
   "cell_type": "code",
   "execution_count": 12,
   "id": "b5f64bfe",
   "metadata": {},
   "outputs": [
    {
     "name": "stdout",
     "output_type": "stream",
     "text": [
      "Enter a range: 5\n",
      "* * * * * \n",
      "* * * * * \n",
      "* * * * * \n",
      "* * * * * \n",
      "* * * * * \n"
     ]
    }
   ],
   "source": [
    "n = int(input(\"Enter a range: \"))\n",
    "for i in range(n):\n",
    "    for j in range(n):\n",
    "        print(\"*\",end=\" \")\n",
    "    print()"
   ]
  },
  {
   "cell_type": "code",
   "execution_count": null,
   "id": "71394304",
   "metadata": {},
   "outputs": [],
   "source": []
  }
 ],
 "metadata": {
  "kernelspec": {
   "display_name": "Python 3 (ipykernel)",
   "language": "python",
   "name": "python3"
  },
  "language_info": {
   "codemirror_mode": {
    "name": "ipython",
    "version": 3
   },
   "file_extension": ".py",
   "mimetype": "text/x-python",
   "name": "python",
   "nbconvert_exporter": "python",
   "pygments_lexer": "ipython3",
   "version": "3.9.13"
  }
 },
 "nbformat": 4,
 "nbformat_minor": 5
}
