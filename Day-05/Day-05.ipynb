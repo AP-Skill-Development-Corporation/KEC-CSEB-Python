{
 "cells": [
  {
   "cell_type": "markdown",
   "id": "303886d6",
   "metadata": {},
   "source": [
    "```\n",
    "01 02 03 04 05 06 07\n",
    "08 09 10 11 12 13 14\n",
    "15 16 17 18 19 20 21\n",
    "22 23 24 25 26 27 28\n",
    "29 30 31\n",
    "```"
   ]
  },
  {
   "cell_type": "code",
   "execution_count": 11,
   "id": "09e9d755",
   "metadata": {},
   "outputs": [
    {
     "name": "stdout",
     "output_type": "stream",
     "text": [
      "** || ** ## ** ## ** \n",
      "## || ## ** ## ** ## \n",
      "[] || [] [] [] [] [] \n",
      "() || () ** () ** () \n",
      "** || ** \n"
     ]
    }
   ],
   "source": [
    "a = 1\n",
    "for i in range(5):\n",
    "    for j in range(7):\n",
    "        if a<32:\n",
    "            if j == 1:\n",
    "                print('||',end=\" \")\n",
    "            elif i == 2:\n",
    "                print(\"[]\",end=\" \")\n",
    "            elif a%2!=0:\n",
    "                print(\"**\",end=\" \")\n",
    "            elif a<15:\n",
    "                print(\"##\",end=\" \")\n",
    "            else:\n",
    "                print(\"()\",end=\" \")\n",
    "        else:\n",
    "            break\n",
    "        a+=1\n",
    "    print()"
   ]
  },
  {
   "cell_type": "markdown",
   "id": "87da831a",
   "metadata": {},
   "source": [
    "## Functions:\n",
    "    - To perform a specific task\n",
    "    - user defiend => User need to fix the task\n",
    "    - pre defined => Already the task is fixed\n",
    "    Syntax:\n",
    "        def functionname(arguments):\n",
    "            //statements\n",
    "            return return_value"
   ]
  },
  {
   "cell_type": "markdown",
   "id": "31fb004a",
   "metadata": {},
   "source": [
    "## User defined Functions:\n",
    "    - with return_type and with arguments\n",
    "    - with return_type and without arguments\n",
    "    - without return_type and with arguments\n",
    "    - without return_type and without arguments"
   ]
  },
  {
   "cell_type": "code",
   "execution_count": 6,
   "id": "fe0c3b55",
   "metadata": {},
   "outputs": [
    {
     "name": "stdout",
     "output_type": "stream",
     "text": [
      "Enter a number: 45\n",
      "Given number is: 45 and its even sum is: 4\n"
     ]
    }
   ],
   "source": [
    "# with return_type and with arguments\n",
    "# Reading => Main\n",
    "# Printing => Main\n",
    "# Logic => Function\n",
    "\n",
    "def evsum(h):\n",
    "    es = 0\n",
    "    while h!=0:\n",
    "        if (h%10)%2==0:\n",
    "            es += h%10\n",
    "        h//=10\n",
    "    return es\n",
    "\n",
    "n = int(input(\"Enter a number: \"))\n",
    "print(f\"Given number is: {n} and its even sum is: {evsum(n)}\")"
   ]
  },
  {
   "cell_type": "code",
   "execution_count": 5,
   "id": "f16a2972",
   "metadata": {},
   "outputs": [
    {
     "name": "stdout",
     "output_type": "stream",
     "text": [
      "Enter a number: 4865\n",
      "Given number is: 4865 and its even sum is: 18\n"
     ]
    }
   ],
   "source": [
    "# with return_type and without arguments\n",
    "# Reading => Function\n",
    "# Printing => Main\n",
    "# Logic => Function\n",
    "\n",
    "def evsum():\n",
    "    es = 0 \n",
    "    h = int(input(\"Enter a number: \"))\n",
    "    print(f\"Given number is: {h}\",end= \" \")\n",
    "    while h!=0:\n",
    "        if (h%10)%2==0:\n",
    "            es += h%10\n",
    "        h//=10\n",
    "    return es\n",
    "\n",
    "print(f\"and its even sum is: {evsum()}\")"
   ]
  },
  {
   "cell_type": "code",
   "execution_count": 2,
   "id": "e6c5a670",
   "metadata": {},
   "outputs": [
    {
     "name": "stdout",
     "output_type": "stream",
     "text": [
      "Enter a number: 34\n",
      "Given number is: 34 and its even sum is: 4\n"
     ]
    }
   ],
   "source": [
    "# without return_type and with arguments\n",
    "# Reading => Main\n",
    "# Printing => Function\n",
    "# Logic => Function\n",
    "\n",
    "def evsum(h):\n",
    "    es =0 \n",
    "    print(f\"Given number is: {h}\",end= \" \")\n",
    "    while h!=0:\n",
    "        if (h%10)%2==0:\n",
    "            es += h%10\n",
    "        h//=10\n",
    "    print(f\"and its even sum is: {es}\")\n",
    "    return \n",
    "\n",
    "n = int(input(\"Enter a number: \"))\n",
    "evsum(n)"
   ]
  },
  {
   "cell_type": "code",
   "execution_count": 3,
   "id": "696c20a3",
   "metadata": {},
   "outputs": [
    {
     "name": "stdout",
     "output_type": "stream",
     "text": [
      "Enter a number: 23\n",
      "Given number is: 23 and its even sum is: 2\n"
     ]
    }
   ],
   "source": [
    "# without return_type and without arguments\n",
    "# Reading => Function\n",
    "# Printing => Function\n",
    "# Logic => Function\n",
    "\n",
    "def evsum():\n",
    "    es =0 \n",
    "    h = int(input(\"Enter a number: \"))\n",
    "    print(f\"Given number is: {h}\",end= \" \")\n",
    "    while h!=0:\n",
    "        if (h%10)%2==0:\n",
    "            es += h%10\n",
    "        h//=10\n",
    "    print(f\"and its even sum is: {es}\")\n",
    "    return \n",
    "\n",
    "evsum()"
   ]
  },
  {
   "cell_type": "markdown",
   "id": "f5dc970f",
   "metadata": {},
   "source": [
    "## Function Arguments:\n",
    "    - Default\n",
    "    - Keyword\n",
    "    - Required or Positional\n",
    "    - Variable Length\n",
    "        - Arbitary Keyword\n",
    "        - Arbitary Positional"
   ]
  },
  {
   "cell_type": "markdown",
   "id": "8f13873a",
   "metadata": {},
   "source": [
    "## Default Argument:"
   ]
  },
  {
   "cell_type": "code",
   "execution_count": 7,
   "id": "caf6f459",
   "metadata": {},
   "outputs": [
    {
     "name": "stdout",
     "output_type": "stream",
     "text": [
      "Enter Name: ramesh\n",
      "Enter Branch: CSE\n",
      "Entered Student Name is: ramesh\n",
      "Entered Student Branch is: CSE\n"
     ]
    }
   ],
   "source": [
    "def student(x,y):\n",
    "    print(f\"Entered Student Name is: {x}\")\n",
    "    print(f\"Entered Student Branch is: {y}\")\n",
    "    return\n",
    "\n",
    "n = input(\"Enter Name: \")\n",
    "b = input(\"Enter Branch: \")\n",
    "student(n,b)"
   ]
  },
  {
   "cell_type": "code",
   "execution_count": 8,
   "id": "06b4d822",
   "metadata": {},
   "outputs": [
    {
     "name": "stdout",
     "output_type": "stream",
     "text": [
      "Enter Name: tilak\n",
      "Enter Branch: ECE\n",
      "Entered Student Name is: tilak\n",
      "Entered Student Branch is: ECE\n",
      "Age is: 25\n"
     ]
    }
   ],
   "source": [
    "def student(x,y,z=25):\n",
    "    print(f\"Entered Student Name is: {x}\")\n",
    "    print(f\"Entered Student Branch is: {y}\")\n",
    "    print(f\"Age is: {z}\")\n",
    "    return\n",
    "\n",
    "n = input(\"Enter Name: \")\n",
    "b = input(\"Enter Branch: \")\n",
    "student(n,b)"
   ]
  },
  {
   "cell_type": "code",
   "execution_count": 10,
   "id": "9265b56d",
   "metadata": {},
   "outputs": [
    {
     "name": "stdout",
     "output_type": "stream",
     "text": [
      "Enter Name: naresh\n",
      "Enter Branch: civil\n",
      "Enter Age: 26\n",
      "Entered Student Name is: naresh\n",
      "Entered Student Branch is: civil\n",
      "Age is: 26\n"
     ]
    }
   ],
   "source": [
    "def student(x,y,z=25):\n",
    "    print(f\"Entered Student Name is: {x}\")\n",
    "    print(f\"Entered Student Branch is: {y}\")\n",
    "    print(f\"Age is: {z}\")\n",
    "    return\n",
    "\n",
    "n = input(\"Enter Name: \")\n",
    "b = input(\"Enter Branch: \")\n",
    "c = int(input(\"Enter Age: \"))\n",
    "student(n,b,c)"
   ]
  },
  {
   "cell_type": "code",
   "execution_count": 11,
   "id": "a420fa1f",
   "metadata": {},
   "outputs": [
    {
     "name": "stdout",
     "output_type": "stream",
     "text": [
      "Enter Name: pavani\n",
      "Entered Student Name is: pavani\n",
      "Entered Student Branch is: CSE\n",
      "Age is: 25\n"
     ]
    }
   ],
   "source": [
    "def student(x,y=\"CSE\",z=25):\n",
    "    print(f\"Entered Student Name is: {x}\")\n",
    "    print(f\"Entered Student Branch is: {y}\")\n",
    "    print(f\"Age is: {z}\")\n",
    "    return\n",
    "\n",
    "n = input(\"Enter Name: \")\n",
    "student(n)"
   ]
  },
  {
   "cell_type": "code",
   "execution_count": 12,
   "id": "3eb1d218",
   "metadata": {},
   "outputs": [
    {
     "name": "stdout",
     "output_type": "stream",
     "text": [
      "Entered Student Name is: Lakshmi\n",
      "Entered Student Branch is: CSE\n",
      "Age is: 25\n"
     ]
    }
   ],
   "source": [
    "def student(x='Lakshmi',y=\"CSE\",z=25):\n",
    "    print(f\"Entered Student Name is: {x}\")\n",
    "    print(f\"Entered Student Branch is: {y}\")\n",
    "    print(f\"Age is: {z}\")\n",
    "    return\n",
    "\n",
    "student()"
   ]
  },
  {
   "cell_type": "code",
   "execution_count": 13,
   "id": "a76a82cf",
   "metadata": {},
   "outputs": [
    {
     "ename": "SyntaxError",
     "evalue": "non-default argument follows default argument (1934026266.py, line 1)",
     "output_type": "error",
     "traceback": [
      "\u001b[1;36m  Cell \u001b[1;32mIn[13], line 1\u001b[1;36m\u001b[0m\n\u001b[1;33m    def student(x='Lakshmi',y,z=25):\u001b[0m\n\u001b[1;37m                              ^\u001b[0m\n\u001b[1;31mSyntaxError\u001b[0m\u001b[1;31m:\u001b[0m non-default argument follows default argument\n"
     ]
    }
   ],
   "source": [
    "def student(x='Lakshmi',y,z=25):\n",
    "    print(f\"Entered Student Name is: {x}\")\n",
    "    print(f\"Entered Student Branch is: {y}\")\n",
    "    print(f\"Age is: {z}\")\n",
    "    return\n",
    "\n",
    "student()"
   ]
  },
  {
   "cell_type": "markdown",
   "id": "4a453d3a",
   "metadata": {},
   "source": [
    "## Keyword Argument:"
   ]
  },
  {
   "cell_type": "code",
   "execution_count": 15,
   "id": "7c8a051e",
   "metadata": {},
   "outputs": [
    {
     "name": "stdout",
     "output_type": "stream",
     "text": [
      "Enter Name: ganesh\n",
      "Enter Age: 29\n",
      "Entered Name is: ganesh\n",
      "Entered Age is: 29\n"
     ]
    }
   ],
   "source": [
    "def employee(b,a):\n",
    "    print(f\"Entered Name is: {a}\")\n",
    "    print(f\"Entered Age is: {b}\")\n",
    "    return\n",
    "\n",
    "en = input(\"Enter Name: \")\n",
    "eg = int(input(\"Enter Age: \"))\n",
    "employee(a=en,b=eg)"
   ]
  },
  {
   "cell_type": "code",
   "execution_count": 16,
   "id": "cc934c4e",
   "metadata": {},
   "outputs": [
    {
     "name": "stdout",
     "output_type": "stream",
     "text": [
      "Enter Name: prasad\n",
      "Enter Age: 24\n"
     ]
    },
    {
     "ename": "TypeError",
     "evalue": "employee() missing 1 required positional argument: 'c'",
     "output_type": "error",
     "traceback": [
      "\u001b[1;31m---------------------------------------------------------------------------\u001b[0m",
      "\u001b[1;31mTypeError\u001b[0m                                 Traceback (most recent call last)",
      "Cell \u001b[1;32mIn[16], line 9\u001b[0m\n\u001b[0;32m      7\u001b[0m en \u001b[38;5;241m=\u001b[39m \u001b[38;5;28minput\u001b[39m(\u001b[38;5;124m\"\u001b[39m\u001b[38;5;124mEnter Name: \u001b[39m\u001b[38;5;124m\"\u001b[39m)\n\u001b[0;32m      8\u001b[0m eg \u001b[38;5;241m=\u001b[39m \u001b[38;5;28mint\u001b[39m(\u001b[38;5;28minput\u001b[39m(\u001b[38;5;124m\"\u001b[39m\u001b[38;5;124mEnter Age: \u001b[39m\u001b[38;5;124m\"\u001b[39m))\n\u001b[1;32m----> 9\u001b[0m \u001b[43memployee\u001b[49m\u001b[43m(\u001b[49m\u001b[43ma\u001b[49m\u001b[38;5;241;43m=\u001b[39;49m\u001b[43men\u001b[49m\u001b[43m,\u001b[49m\u001b[43mb\u001b[49m\u001b[38;5;241;43m=\u001b[39;49m\u001b[43meg\u001b[49m\u001b[43m)\u001b[49m\n",
      "\u001b[1;31mTypeError\u001b[0m: employee() missing 1 required positional argument: 'c'"
     ]
    }
   ],
   "source": [
    "def employee(b,a,c):\n",
    "    print(f\"Entered Name is: {a}\")\n",
    "    print(f\"Entered Age is: {b}\")\n",
    "    print(f\"Salary is {c}\")\n",
    "    return\n",
    "\n",
    "en = input(\"Enter Name: \")\n",
    "eg = int(input(\"Enter Age: \"))\n",
    "employee(a=en,b=eg)"
   ]
  },
  {
   "cell_type": "code",
   "execution_count": 17,
   "id": "c07f94de",
   "metadata": {},
   "outputs": [
    {
     "name": "stdout",
     "output_type": "stream",
     "text": [
      "Enter Name: lalitha\n",
      "Enter Age: 26\n",
      "Entered Name is: lalitha\n",
      "Entered Age is: 26\n",
      "Salary is 25000\n"
     ]
    }
   ],
   "source": [
    "def employee(b,a,c=25000):\n",
    "    print(f\"Entered Name is: {a}\")\n",
    "    print(f\"Entered Age is: {b}\")\n",
    "    print(f\"Salary is {c}\")\n",
    "    return\n",
    "\n",
    "en = input(\"Enter Name: \")\n",
    "eg = int(input(\"Enter Age: \"))\n",
    "employee(a=en,b=eg)"
   ]
  },
  {
   "cell_type": "code",
   "execution_count": 18,
   "id": "bda61bde",
   "metadata": {},
   "outputs": [
    {
     "ename": "SyntaxError",
     "evalue": "non-default argument follows default argument (2671143910.py, line 1)",
     "output_type": "error",
     "traceback": [
      "\u001b[1;36m  Cell \u001b[1;32mIn[18], line 1\u001b[1;36m\u001b[0m\n\u001b[1;33m    def employee(b,c=25000,a):\u001b[0m\n\u001b[1;37m                            ^\u001b[0m\n\u001b[1;31mSyntaxError\u001b[0m\u001b[1;31m:\u001b[0m non-default argument follows default argument\n"
     ]
    }
   ],
   "source": [
    "def employee(b,c=25000,a):\n",
    "    print(f\"Entered Name is: {a}\")\n",
    "    print(f\"Entered Age is: {b}\")\n",
    "    print(f\"Salary is {c}\")\n",
    "    return\n",
    "\n",
    "en = input(\"Enter Name: \")\n",
    "eg = int(input(\"Enter Age: \"))\n",
    "employee(a=en,b=eg)"
   ]
  },
  {
   "cell_type": "markdown",
   "id": "bf5010c1",
   "metadata": {},
   "source": [
    "## Required or Positional Argument:"
   ]
  },
  {
   "cell_type": "code",
   "execution_count": 20,
   "id": "3f78bd1a",
   "metadata": {},
   "outputs": [
    {
     "name": "stdout",
     "output_type": "stream",
     "text": [
      "Enter Name: kavya\n",
      "Enter Branch: Mech\n",
      "Entered Name is: kavya\n",
      "Entered Branch is: Mech\n"
     ]
    }
   ],
   "source": [
    "def student(t,y):\n",
    "    print(f\"Entered Name is: {t}\")\n",
    "    print(f\"Entered Branch is: {y}\")\n",
    "    return\n",
    "\n",
    "n = input(\"Enter Name: \")\n",
    "m = input(\"Enter Branch: \")\n",
    "student(n,m)"
   ]
  },
  {
   "cell_type": "code",
   "execution_count": 21,
   "id": "55972e17",
   "metadata": {},
   "outputs": [
    {
     "name": "stdout",
     "output_type": "stream",
     "text": [
      "Enter Name: navya\n",
      "Enter Branch: ECE\n"
     ]
    },
    {
     "ename": "TypeError",
     "evalue": "student() missing 1 required positional argument: 'd'",
     "output_type": "error",
     "traceback": [
      "\u001b[1;31m---------------------------------------------------------------------------\u001b[0m",
      "\u001b[1;31mTypeError\u001b[0m                                 Traceback (most recent call last)",
      "Cell \u001b[1;32mIn[21], line 8\u001b[0m\n\u001b[0;32m      6\u001b[0m n \u001b[38;5;241m=\u001b[39m \u001b[38;5;28minput\u001b[39m(\u001b[38;5;124m\"\u001b[39m\u001b[38;5;124mEnter Name: \u001b[39m\u001b[38;5;124m\"\u001b[39m)\n\u001b[0;32m      7\u001b[0m m \u001b[38;5;241m=\u001b[39m \u001b[38;5;28minput\u001b[39m(\u001b[38;5;124m\"\u001b[39m\u001b[38;5;124mEnter Branch: \u001b[39m\u001b[38;5;124m\"\u001b[39m)\n\u001b[1;32m----> 8\u001b[0m \u001b[43mstudent\u001b[49m\u001b[43m(\u001b[49m\u001b[43mn\u001b[49m\u001b[43m,\u001b[49m\u001b[43mm\u001b[49m\u001b[43m)\u001b[49m\n",
      "\u001b[1;31mTypeError\u001b[0m: student() missing 1 required positional argument: 'd'"
     ]
    }
   ],
   "source": [
    "def student(t,y,d):\n",
    "    print(f\"Entered Name is: {t}\")\n",
    "    print(f\"Entered Branch is: {y}\")\n",
    "    return\n",
    "\n",
    "n = input(\"Enter Name: \")\n",
    "m = input(\"Enter Branch: \")\n",
    "student(n,m)"
   ]
  },
  {
   "cell_type": "code",
   "execution_count": 22,
   "id": "7cc9c64e",
   "metadata": {},
   "outputs": [
    {
     "name": "stdout",
     "output_type": "stream",
     "text": [
      "Enter Name: kiran\n",
      "Enter Branch: CSE\n",
      "Entered Name is: kiran\n",
      "Entered Branch is: CSE\n",
      "Entered Age is: 21\n"
     ]
    }
   ],
   "source": [
    "def student(t,y,d=21):\n",
    "    print(f\"Entered Name is: {t}\")\n",
    "    print(f\"Entered Branch is: {y}\")\n",
    "    print(f\"Entered Age is: {d}\")\n",
    "    return\n",
    "\n",
    "n = input(\"Enter Name: \")\n",
    "m = input(\"Enter Branch: \")\n",
    "student(n,m)"
   ]
  },
  {
   "cell_type": "markdown",
   "id": "1a88ce5c",
   "metadata": {},
   "source": [
    "## Variable Length Argument:"
   ]
  },
  {
   "cell_type": "code",
   "execution_count": 23,
   "id": "1dfee338",
   "metadata": {},
   "outputs": [
    {
     "name": "stdout",
     "output_type": "stream",
     "text": [
      "(12, 78, 89, 56) <class 'tuple'>\n"
     ]
    }
   ],
   "source": [
    "def sg(*y):\n",
    "    print(y,type(y))\n",
    "    return\n",
    "\n",
    "sg(12,78,89,56)"
   ]
  },
  {
   "cell_type": "code",
   "execution_count": 24,
   "id": "8fa3f0a5",
   "metadata": {},
   "outputs": [
    {
     "name": "stdout",
     "output_type": "stream",
     "text": [
      "bharath <class 'str'>\n",
      "(12, 78, 89, 56) <class 'tuple'>\n"
     ]
    }
   ],
   "source": [
    "def sg(e,*y):\n",
    "    print(e,type(e))\n",
    "    print(y,type(y))\n",
    "    return\n",
    "\n",
    "sg('bharath',12,78,89,56)"
   ]
  },
  {
   "cell_type": "code",
   "execution_count": 25,
   "id": "110b72cc",
   "metadata": {},
   "outputs": [
    {
     "name": "stdout",
     "output_type": "stream",
     "text": [
      "bharath <class 'str'>\n",
      "(12, 78, 89, 56) <class 'tuple'>\n",
      "{'sn': '2', 'sname': 'rajesh', 'sal': 25000} <class 'dict'>\n"
     ]
    }
   ],
   "source": [
    "def sg(e,*y,**q):\n",
    "    print(e,type(e))\n",
    "    print(y,type(y))\n",
    "    print(q,type(q))\n",
    "    return\n",
    "\n",
    "sg('bharath',12,78,89,56,sn='2',sname='rajesh',sal=25000)"
   ]
  },
  {
   "cell_type": "code",
   "execution_count": 27,
   "id": "df4d1e38",
   "metadata": {},
   "outputs": [
    {
     "name": "stdout",
     "output_type": "stream",
     "text": [
      "1 <class 'int'>\n",
      "{'c': 12} <class 'dict'>\n"
     ]
    }
   ],
   "source": [
    "def vd(a,**b):\n",
    "    print(a,type(a))\n",
    "    print(b,type(b))\n",
    "    return\n",
    "vd(1,c=12)"
   ]
  },
  {
   "cell_type": "code",
   "execution_count": 28,
   "id": "1d00ecb1",
   "metadata": {},
   "outputs": [
    {
     "ename": "SyntaxError",
     "evalue": "positional argument follows keyword argument (3553552471.py, line 5)",
     "output_type": "error",
     "traceback": [
      "\u001b[1;36m  Cell \u001b[1;32mIn[28], line 5\u001b[1;36m\u001b[0m\n\u001b[1;33m    vd(1,c=12,12)\u001b[0m\n\u001b[1;37m                ^\u001b[0m\n\u001b[1;31mSyntaxError\u001b[0m\u001b[1;31m:\u001b[0m positional argument follows keyword argument\n"
     ]
    }
   ],
   "source": [
    "def vd(a,**b):\n",
    "    print(a,type(a))\n",
    "    print(b,type(b))\n",
    "    return\n",
    "vd(1,c=12,12)"
   ]
  },
  {
   "cell_type": "code",
   "execution_count": 31,
   "id": "d0b12247",
   "metadata": {},
   "outputs": [
    {
     "ename": "SyntaxError",
     "evalue": "invalid syntax (2923516463.py, line 1)",
     "output_type": "error",
     "traceback": [
      "\u001b[1;36m  Cell \u001b[1;32mIn[31], line 1\u001b[1;36m\u001b[0m\n\u001b[1;33m    def vd(a,**b,n=25):\u001b[0m\n\u001b[1;37m                 ^\u001b[0m\n\u001b[1;31mSyntaxError\u001b[0m\u001b[1;31m:\u001b[0m invalid syntax\n"
     ]
    }
   ],
   "source": [
    "def vd(a,**b,n=25):\n",
    "    print(a,type(a))\n",
    "    print(b,type(b))\n",
    "    print(n,type(n))\n",
    "    return\n",
    "vd(1,5,c=12)"
   ]
  },
  {
   "cell_type": "code",
   "execution_count": 34,
   "id": "a724fa5b",
   "metadata": {},
   "outputs": [
    {
     "name": "stdout",
     "output_type": "stream",
     "text": [
      "1 <class 'int'>\n",
      "{'c': 12} <class 'dict'>\n",
      "5 <class 'int'>\n"
     ]
    }
   ],
   "source": [
    "def vd(a,n=25,**b):\n",
    "    print(a,type(a))\n",
    "    print(b,type(b))\n",
    "    print(n,type(n))\n",
    "    return\n",
    "vd(1,5,c=12)"
   ]
  },
  {
   "cell_type": "code",
   "execution_count": 35,
   "id": "157cf8fb",
   "metadata": {},
   "outputs": [
    {
     "name": "stdout",
     "output_type": "stream",
     "text": [
      "1 <class 'int'>\n",
      "{'c': 12} <class 'dict'>\n",
      "(5, 'suresh') <class 'tuple'>\n"
     ]
    }
   ],
   "source": [
    "def vd(a,*n,**b):\n",
    "    print(a,type(a))\n",
    "    print(b,type(b))\n",
    "    print(n,type(n))\n",
    "    return\n",
    "vd(1,5,'suresh',c=12)"
   ]
  },
  {
   "cell_type": "code",
   "execution_count": 36,
   "id": "38085358",
   "metadata": {},
   "outputs": [
    {
     "ename": "SyntaxError",
     "evalue": "positional argument follows keyword argument (1183955574.py, line 6)",
     "output_type": "error",
     "traceback": [
      "\u001b[1;36m  Cell \u001b[1;32mIn[36], line 6\u001b[1;36m\u001b[0m\n\u001b[1;33m    vd(r='25',1,5,name='suresh',c=12)\u001b[0m\n\u001b[1;37m                                    ^\u001b[0m\n\u001b[1;31mSyntaxError\u001b[0m\u001b[1;31m:\u001b[0m positional argument follows keyword argument\n"
     ]
    }
   ],
   "source": [
    "def vd(a,*n,**b):\n",
    "    print(a,type(a))\n",
    "    print(b,type(b))\n",
    "    print(n,type(n))\n",
    "    return\n",
    "vd(r='25',1,5,name='suresh',c=12)"
   ]
  },
  {
   "cell_type": "code",
   "execution_count": 38,
   "id": "7b1790c5",
   "metadata": {},
   "outputs": [
    {
     "ename": "TypeError",
     "evalue": "vd() got an unexpected keyword argument 'name'",
     "output_type": "error",
     "traceback": [
      "\u001b[1;31m---------------------------------------------------------------------------\u001b[0m",
      "\u001b[1;31mTypeError\u001b[0m                                 Traceback (most recent call last)",
      "Cell \u001b[1;32mIn[38], line 6\u001b[0m\n\u001b[0;32m      4\u001b[0m     \u001b[38;5;28mprint\u001b[39m(n,\u001b[38;5;28mtype\u001b[39m(n))\n\u001b[0;32m      5\u001b[0m     \u001b[38;5;28;01mreturn\u001b[39;00m\n\u001b[1;32m----> 6\u001b[0m \u001b[43mvd\u001b[49m\u001b[43m(\u001b[49m\u001b[38;5;124;43m'\u001b[39;49m\u001b[38;5;124;43m25\u001b[39;49m\u001b[38;5;124;43m'\u001b[39;49m\u001b[43m,\u001b[49m\u001b[38;5;241;43m1\u001b[39;49m\u001b[43m,\u001b[49m\u001b[38;5;241;43m5\u001b[39;49m\u001b[43m,\u001b[49m\u001b[43mname\u001b[49m\u001b[38;5;241;43m=\u001b[39;49m\u001b[38;5;124;43m'\u001b[39;49m\u001b[38;5;124;43msuresh\u001b[39;49m\u001b[38;5;124;43m'\u001b[39;49m\u001b[43m,\u001b[49m\u001b[43mc\u001b[49m\u001b[38;5;241;43m=\u001b[39;49m\u001b[38;5;241;43m12\u001b[39;49m\u001b[43m)\u001b[49m\n",
      "\u001b[1;31mTypeError\u001b[0m: vd() got an unexpected keyword argument 'name'"
     ]
    }
   ],
   "source": [
    "def vd(a,*n):\n",
    "    print(a,type(a))\n",
    "    print(b,type(b))\n",
    "    print(n,type(n))\n",
    "    return\n",
    "vd('25',1,5,name='suresh',c=12)"
   ]
  },
  {
   "cell_type": "markdown",
   "id": "16769523",
   "metadata": {},
   "source": [
    "## Data structures\n",
    "    - To organize the data in ordered or unorder format\n",
    "    - list\n",
    "    - tuple\n",
    "    - set\n",
    "    - dictionary"
   ]
  },
  {
   "cell_type": "markdown",
   "id": "e03ff8d0",
   "metadata": {},
   "source": [
    "# List:\n",
    "    - It can be represented as []\n",
    "    - It can stores the data in ordered format\n",
    "    - It can allows duplicate values\n",
    "    - Slicing can be done because of index\n",
    "    - It can be typecasted as list()\n",
    "    - It can changes the values in a list\n",
    "    - It allows all data type values"
   ]
  },
  {
   "cell_type": "code",
   "execution_count": 39,
   "id": "950f7231",
   "metadata": {},
   "outputs": [
    {
     "name": "stdout",
     "output_type": "stream",
     "text": [
      "[2, 45.0, 'Prasad', True, (9+5j), None, '89', 2, 2] <class 'list'>\n"
     ]
    }
   ],
   "source": [
    "n = [2,45.00,'Prasad',True,9+5j,None,'89',2,2]\n",
    "print(n,type(n))"
   ]
  },
  {
   "cell_type": "code",
   "execution_count": 40,
   "id": "344180b5",
   "metadata": {},
   "outputs": [
    {
     "name": "stdout",
     "output_type": "stream",
     "text": [
      "0 <class 'int'>\n",
      "1 <class 'int'>\n",
      "2 <class 'int'>\n",
      "3 <class 'int'>\n",
      "4 <class 'int'>\n",
      "5 <class 'int'>\n",
      "6 <class 'int'>\n",
      "7 <class 'int'>\n",
      "8 <class 'int'>\n"
     ]
    }
   ],
   "source": [
    "for i in range(len(n)):\n",
    "    print(i,type(i))"
   ]
  },
  {
   "cell_type": "code",
   "execution_count": 41,
   "id": "0488be2e",
   "metadata": {},
   "outputs": [
    {
     "name": "stdout",
     "output_type": "stream",
     "text": [
      "2 <class 'int'>\n",
      "45.0 <class 'float'>\n",
      "Prasad <class 'str'>\n",
      "True <class 'bool'>\n",
      "(9+5j) <class 'complex'>\n",
      "None <class 'NoneType'>\n",
      "89 <class 'str'>\n",
      "2 <class 'int'>\n",
      "2 <class 'int'>\n"
     ]
    }
   ],
   "source": [
    "for i in range(len(n)):\n",
    "    print(n[i],type(n[i]))"
   ]
  },
  {
   "cell_type": "code",
   "execution_count": 42,
   "id": "ef695d68",
   "metadata": {},
   "outputs": [
    {
     "name": "stdout",
     "output_type": "stream",
     "text": [
      "2 <class 'int'>\n",
      "45.0 <class 'float'>\n",
      "Prasad <class 'str'>\n",
      "True <class 'bool'>\n",
      "(9+5j) <class 'complex'>\n",
      "None <class 'NoneType'>\n",
      "89 <class 'str'>\n",
      "2 <class 'int'>\n",
      "2 <class 'int'>\n"
     ]
    }
   ],
   "source": [
    "for i in n:\n",
    "    print(i,type(i))"
   ]
  },
  {
   "cell_type": "code",
   "execution_count": 43,
   "id": "ba6c0235",
   "metadata": {},
   "outputs": [
    {
     "name": "stdout",
     "output_type": "stream",
     "text": [
      "['__add__', '__class__', '__class_getitem__', '__contains__', '__delattr__', '__delitem__', '__dir__', '__doc__', '__eq__', '__format__', '__ge__', '__getattribute__', '__getitem__', '__gt__', '__hash__', '__iadd__', '__imul__', '__init__', '__init_subclass__', '__iter__', '__le__', '__len__', '__lt__', '__mul__', '__ne__', '__new__', '__reduce__', '__reduce_ex__', '__repr__', '__reversed__', '__rmul__', '__setattr__', '__setitem__', '__sizeof__', '__str__', '__subclasshook__', 'append', 'clear', 'copy', 'count', 'extend', 'index', 'insert', 'pop', 'remove', 'reverse', 'sort']\n"
     ]
    }
   ],
   "source": [
    "print(dir(list))"
   ]
  },
  {
   "cell_type": "code",
   "execution_count": 44,
   "id": "0eb33950",
   "metadata": {},
   "outputs": [
    {
     "name": "stdout",
     "output_type": "stream",
     "text": [
      "Built-in mutable sequence.\n",
      "\n",
      "If no argument is given, the constructor creates a new empty list.\n",
      "The argument must be an iterable if specified.\n"
     ]
    }
   ],
   "source": [
    "print(list.__doc__)"
   ]
  },
  {
   "cell_type": "code",
   "execution_count": 45,
   "id": "314fe5b1",
   "metadata": {},
   "outputs": [
    {
     "name": "stdout",
     "output_type": "stream",
     "text": [
      "Append object to the end of the list.\n"
     ]
    }
   ],
   "source": [
    "print(list.append.__doc__)"
   ]
  },
  {
   "cell_type": "code",
   "execution_count": 46,
   "id": "423c7642",
   "metadata": {},
   "outputs": [
    {
     "name": "stdout",
     "output_type": "stream",
     "text": [
      "print(value, ..., sep=' ', end='\\n', file=sys.stdout, flush=False)\n",
      "\n",
      "Prints the values to a stream, or to sys.stdout by default.\n",
      "Optional keyword arguments:\n",
      "file:  a file-like object (stream); defaults to the current sys.stdout.\n",
      "sep:   string inserted between values, default a space.\n",
      "end:   string appended after the last value, default a newline.\n",
      "flush: whether to forcibly flush the stream.\n"
     ]
    }
   ],
   "source": [
    "print(print.__doc__)"
   ]
  },
  {
   "cell_type": "code",
   "execution_count": 47,
   "id": "450b629a",
   "metadata": {},
   "outputs": [
    {
     "name": "stdout",
     "output_type": "stream",
     "text": [
      "Help on class list in module builtins:\n",
      "\n",
      "class list(object)\n",
      " |  list(iterable=(), /)\n",
      " |  \n",
      " |  Built-in mutable sequence.\n",
      " |  \n",
      " |  If no argument is given, the constructor creates a new empty list.\n",
      " |  The argument must be an iterable if specified.\n",
      " |  \n",
      " |  Methods defined here:\n",
      " |  \n",
      " |  __add__(self, value, /)\n",
      " |      Return self+value.\n",
      " |  \n",
      " |  __contains__(self, key, /)\n",
      " |      Return key in self.\n",
      " |  \n",
      " |  __delitem__(self, key, /)\n",
      " |      Delete self[key].\n",
      " |  \n",
      " |  __eq__(self, value, /)\n",
      " |      Return self==value.\n",
      " |  \n",
      " |  __ge__(self, value, /)\n",
      " |      Return self>=value.\n",
      " |  \n",
      " |  __getattribute__(self, name, /)\n",
      " |      Return getattr(self, name).\n",
      " |  \n",
      " |  __getitem__(...)\n",
      " |      x.__getitem__(y) <==> x[y]\n",
      " |  \n",
      " |  __gt__(self, value, /)\n",
      " |      Return self>value.\n",
      " |  \n",
      " |  __iadd__(self, value, /)\n",
      " |      Implement self+=value.\n",
      " |  \n",
      " |  __imul__(self, value, /)\n",
      " |      Implement self*=value.\n",
      " |  \n",
      " |  __init__(self, /, *args, **kwargs)\n",
      " |      Initialize self.  See help(type(self)) for accurate signature.\n",
      " |  \n",
      " |  __iter__(self, /)\n",
      " |      Implement iter(self).\n",
      " |  \n",
      " |  __le__(self, value, /)\n",
      " |      Return self<=value.\n",
      " |  \n",
      " |  __len__(self, /)\n",
      " |      Return len(self).\n",
      " |  \n",
      " |  __lt__(self, value, /)\n",
      " |      Return self<value.\n",
      " |  \n",
      " |  __mul__(self, value, /)\n",
      " |      Return self*value.\n",
      " |  \n",
      " |  __ne__(self, value, /)\n",
      " |      Return self!=value.\n",
      " |  \n",
      " |  __repr__(self, /)\n",
      " |      Return repr(self).\n",
      " |  \n",
      " |  __reversed__(self, /)\n",
      " |      Return a reverse iterator over the list.\n",
      " |  \n",
      " |  __rmul__(self, value, /)\n",
      " |      Return value*self.\n",
      " |  \n",
      " |  __setitem__(self, key, value, /)\n",
      " |      Set self[key] to value.\n",
      " |  \n",
      " |  __sizeof__(self, /)\n",
      " |      Return the size of the list in memory, in bytes.\n",
      " |  \n",
      " |  append(self, object, /)\n",
      " |      Append object to the end of the list.\n",
      " |  \n",
      " |  clear(self, /)\n",
      " |      Remove all items from list.\n",
      " |  \n",
      " |  copy(self, /)\n",
      " |      Return a shallow copy of the list.\n",
      " |  \n",
      " |  count(self, value, /)\n",
      " |      Return number of occurrences of value.\n",
      " |  \n",
      " |  extend(self, iterable, /)\n",
      " |      Extend list by appending elements from the iterable.\n",
      " |  \n",
      " |  index(self, value, start=0, stop=9223372036854775807, /)\n",
      " |      Return first index of value.\n",
      " |      \n",
      " |      Raises ValueError if the value is not present.\n",
      " |  \n",
      " |  insert(self, index, object, /)\n",
      " |      Insert object before index.\n",
      " |  \n",
      " |  pop(self, index=-1, /)\n",
      " |      Remove and return item at index (default last).\n",
      " |      \n",
      " |      Raises IndexError if list is empty or index is out of range.\n",
      " |  \n",
      " |  remove(self, value, /)\n",
      " |      Remove first occurrence of value.\n",
      " |      \n",
      " |      Raises ValueError if the value is not present.\n",
      " |  \n",
      " |  reverse(self, /)\n",
      " |      Reverse *IN PLACE*.\n",
      " |  \n",
      " |  sort(self, /, *, key=None, reverse=False)\n",
      " |      Sort the list in ascending order and return None.\n",
      " |      \n",
      " |      The sort is in-place (i.e. the list itself is modified) and stable (i.e. the\n",
      " |      order of two equal elements is maintained).\n",
      " |      \n",
      " |      If a key function is given, apply it once to each list item and sort them,\n",
      " |      ascending or descending, according to their function values.\n",
      " |      \n",
      " |      The reverse flag can be set to sort in descending order.\n",
      " |  \n",
      " |  ----------------------------------------------------------------------\n",
      " |  Class methods defined here:\n",
      " |  \n",
      " |  __class_getitem__(...) from builtins.type\n",
      " |      See PEP 585\n",
      " |  \n",
      " |  ----------------------------------------------------------------------\n",
      " |  Static methods defined here:\n",
      " |  \n",
      " |  __new__(*args, **kwargs) from builtins.type\n",
      " |      Create and return a new object.  See help(type) for accurate signature.\n",
      " |  \n",
      " |  ----------------------------------------------------------------------\n",
      " |  Data and other attributes defined here:\n",
      " |  \n",
      " |  __hash__ = None\n",
      "\n"
     ]
    }
   ],
   "source": [
    "help(list)"
   ]
  },
  {
   "cell_type": "code",
   "execution_count": 48,
   "id": "2d363f46",
   "metadata": {},
   "outputs": [
    {
     "name": "stdout",
     "output_type": "stream",
     "text": [
      "Help on method_descriptor:\n",
      "\n",
      "append(self, object, /)\n",
      "    Append object to the end of the list.\n",
      "\n"
     ]
    }
   ],
   "source": [
    "help(list.append)"
   ]
  },
  {
   "cell_type": "code",
   "execution_count": 50,
   "id": "226fbd2a",
   "metadata": {},
   "outputs": [
    {
     "name": "stdout",
     "output_type": "stream",
     "text": [
      "[2, 45.0, 'Prasad', True, (9+5j), None, '89', 2, 2]\n",
      "[2, 45.0, 'Prasad', True, (9+5j), None, '89', 2, 2]\n",
      "[2, 45.0, 'Prasad', True, (9+5j), None, '89', 2, 2]\n"
     ]
    }
   ],
   "source": [
    "print(n)\n",
    "print(n[:])\n",
    "print(n[::])"
   ]
  },
  {
   "cell_type": "code",
   "execution_count": 51,
   "id": "78bfbe0a",
   "metadata": {},
   "outputs": [
    {
     "name": "stdout",
     "output_type": "stream",
     "text": [
      "True\n",
      "None\n"
     ]
    }
   ],
   "source": [
    "print(n[3])\n",
    "print(n[-4])"
   ]
  },
  {
   "cell_type": "code",
   "execution_count": 69,
   "id": "56621c75",
   "metadata": {},
   "outputs": [
    {
     "name": "stdout",
     "output_type": "stream",
     "text": [
      "[2, 45.0, 'Prasad', True, (9+5j), None, '89', 2, 2]\n",
      "[2, 45.0, 'Prasad', True, (9+5j), None]\n",
      "[2, 45.0, 'Prasad', True, (9+5j)]\n",
      "['Prasad', True, (9+5j), None, '89', 2]\n",
      "[]\n",
      "[None, '89']\n",
      "[]\n",
      "[None, '89']\n",
      "['Prasad', True, (9+5j), None, '89']\n"
     ]
    }
   ],
   "source": [
    "print(n)\n",
    "print(n[:6])\n",
    "print(n[:-4])\n",
    "print(n[2:8])\n",
    "print(n[3:-8])\n",
    "print(n[5:-2])\n",
    "print(n[-3:2])\n",
    "print(n[-4:7])\n",
    "print(n[-7:-2])"
   ]
  },
  {
   "cell_type": "code",
   "execution_count": 79,
   "id": "3e16e057",
   "metadata": {},
   "outputs": [
    {
     "name": "stdout",
     "output_type": "stream",
     "text": [
      "[2, 45.0, 'Prasad', True, (9+5j), None, '89', 2, 2]\n",
      "['Prasad', True, (9+5j), None, '89', 2, 2]\n",
      "[2, 45.0, 'Prasad', True, (9+5j), None]\n",
      "[2, True, '89']\n",
      "[(9+5j), None, '89', 2, 2]\n",
      "['89']\n",
      "[True]\n",
      "[True, None]\n",
      "[2, 2, '89', None, (9+5j), True, 'Prasad', 45.0, 2]\n"
     ]
    }
   ],
   "source": [
    "print(n)\n",
    "print(n[2::])\n",
    "print(n[:6:])\n",
    "print(n[::3])\n",
    "print(n[4:9:])\n",
    "print(n[-3:7:])\n",
    "print(n[3:-5:])\n",
    "print(n[3:6:2])\n",
    "print(n[::-1])"
   ]
  },
  {
   "cell_type": "code",
   "execution_count": 81,
   "id": "074a044c",
   "metadata": {},
   "outputs": [
    {
     "name": "stdout",
     "output_type": "stream",
     "text": [
      "[67]\n",
      "[67, 45]\n"
     ]
    }
   ],
   "source": [
    "r = [67]\n",
    "print(r)\n",
    "r.append(45)\n",
    "print(r)"
   ]
  },
  {
   "cell_type": "code",
   "execution_count": 82,
   "id": "3b449bcb",
   "metadata": {},
   "outputs": [
    {
     "name": "stdout",
     "output_type": "stream",
     "text": [
      "[67, 45]\n"
     ]
    },
    {
     "ename": "TypeError",
     "evalue": "list.append() takes exactly one argument (2 given)",
     "output_type": "error",
     "traceback": [
      "\u001b[1;31m---------------------------------------------------------------------------\u001b[0m",
      "\u001b[1;31mTypeError\u001b[0m                                 Traceback (most recent call last)",
      "Cell \u001b[1;32mIn[82], line 2\u001b[0m\n\u001b[0;32m      1\u001b[0m \u001b[38;5;28mprint\u001b[39m(r)\n\u001b[1;32m----> 2\u001b[0m \u001b[43mr\u001b[49m\u001b[38;5;241;43m.\u001b[39;49m\u001b[43mappend\u001b[49m\u001b[43m(\u001b[49m\u001b[38;5;241;43m78\u001b[39;49m\u001b[43m,\u001b[49m\u001b[38;5;124;43m'\u001b[39;49m\u001b[38;5;124;43m90\u001b[39;49m\u001b[38;5;124;43m'\u001b[39;49m\u001b[43m)\u001b[49m\n\u001b[0;32m      3\u001b[0m \u001b[38;5;28mprint\u001b[39m(r)\n",
      "\u001b[1;31mTypeError\u001b[0m: list.append() takes exactly one argument (2 given)"
     ]
    }
   ],
   "source": [
    "print(r)\n",
    "r.append(78,'90')\n",
    "print(r)"
   ]
  },
  {
   "cell_type": "code",
   "execution_count": 83,
   "id": "35a0be70",
   "metadata": {},
   "outputs": [
    {
     "name": "stdout",
     "output_type": "stream",
     "text": [
      "[67, 45]\n",
      "[67, 45, [4, 89, 'Lavanya']]\n"
     ]
    }
   ],
   "source": [
    "print(r)\n",
    "r.append([4,89,'Lavanya'])\n",
    "print(r)"
   ]
  },
  {
   "cell_type": "code",
   "execution_count": 84,
   "id": "5e448a04",
   "metadata": {},
   "outputs": [
    {
     "name": "stdout",
     "output_type": "stream",
     "text": [
      "[67, 45, [4, 89, 'Lavanya']]\n",
      "[67, 45, [4, 89, 'Lavanya'], ('67', 95, 'gh')]\n"
     ]
    }
   ],
   "source": [
    "print(r)\n",
    "r.append(('67',95,'gh'))\n",
    "print(r)"
   ]
  },
  {
   "cell_type": "code",
   "execution_count": 85,
   "id": "5ab723ea",
   "metadata": {},
   "outputs": [
    {
     "name": "stdout",
     "output_type": "stream",
     "text": [
      "[67, 45, [4, 89, 'Lavanya'], ('67', 95, 'gh')]\n",
      "[67, 45, [4, 89, 'Lavanya'], ('67', 95, 'gh'), {0, 'kamal', 4, '89', 8, 9}]\n"
     ]
    }
   ],
   "source": [
    "print(r)\n",
    "r.append({4,8,9,0,4,'kamal','89'})\n",
    "print(r)"
   ]
  },
  {
   "cell_type": "code",
   "execution_count": 86,
   "id": "0b3e3aa7",
   "metadata": {},
   "outputs": [
    {
     "name": "stdout",
     "output_type": "stream",
     "text": [
      "[56]\n"
     ]
    },
    {
     "ename": "TypeError",
     "evalue": "'int' object is not iterable",
     "output_type": "error",
     "traceback": [
      "\u001b[1;31m---------------------------------------------------------------------------\u001b[0m",
      "\u001b[1;31mTypeError\u001b[0m                                 Traceback (most recent call last)",
      "Cell \u001b[1;32mIn[86], line 3\u001b[0m\n\u001b[0;32m      1\u001b[0m w \u001b[38;5;241m=\u001b[39m [\u001b[38;5;241m56\u001b[39m]\n\u001b[0;32m      2\u001b[0m \u001b[38;5;28mprint\u001b[39m(w)\n\u001b[1;32m----> 3\u001b[0m \u001b[43mw\u001b[49m\u001b[38;5;241;43m.\u001b[39;49m\u001b[43mextend\u001b[49m\u001b[43m(\u001b[49m\u001b[38;5;241;43m45\u001b[39;49m\u001b[43m)\u001b[49m\n\u001b[0;32m      4\u001b[0m \u001b[38;5;28mprint\u001b[39m(w)\n",
      "\u001b[1;31mTypeError\u001b[0m: 'int' object is not iterable"
     ]
    }
   ],
   "source": [
    "w = [56]\n",
    "print(w)\n",
    "w.extend(45)\n",
    "print(w)"
   ]
  },
  {
   "cell_type": "code",
   "execution_count": 88,
   "id": "5de53626",
   "metadata": {},
   "outputs": [
    {
     "name": "stdout",
     "output_type": "stream",
     "text": [
      "[56]\n",
      "[56, 67, 78, 'pramod']\n"
     ]
    }
   ],
   "source": [
    "print(w)\n",
    "w.extend([67,78,'pramod'])\n",
    "print(w)"
   ]
  },
  {
   "cell_type": "code",
   "execution_count": 89,
   "id": "d8dc45c8",
   "metadata": {},
   "outputs": [
    {
     "name": "stdout",
     "output_type": "stream",
     "text": [
      "[56, 67, 78, 'pramod']\n",
      "[56, 67, 78, 'pramod', 45, 6, 7, '96']\n"
     ]
    }
   ],
   "source": [
    "print(w)\n",
    "w.extend((45,6,7,'96'))\n",
    "print(w)"
   ]
  },
  {
   "cell_type": "code",
   "execution_count": 90,
   "id": "0a650f1a",
   "metadata": {},
   "outputs": [
    {
     "name": "stdout",
     "output_type": "stream",
     "text": [
      "[56, 67, 78, 'pramod', 45, 6, 7, '96']\n",
      "[56, 67, 78, 'pramod', 45, 6, 7, '96', 56, 'p', 5, 78]\n"
     ]
    }
   ],
   "source": [
    "print(w)\n",
    "w.extend({'p',56,5,78})\n",
    "print(w)"
   ]
  },
  {
   "cell_type": "code",
   "execution_count": 91,
   "id": "1e4cbbf3",
   "metadata": {},
   "outputs": [
    {
     "name": "stdout",
     "output_type": "stream",
     "text": [
      "[56, 67, 78, 'pramod', 45, 6, 7, '96', 56, 'p', 5, 78]\n",
      "[150, 56, 67, 78, 'pramod', 45, 6, 7, '96', 56, 'p', 5, 78]\n"
     ]
    }
   ],
   "source": [
    "print(w)\n",
    "w.insert(0,150)\n",
    "print(w)"
   ]
  },
  {
   "cell_type": "code",
   "execution_count": 92,
   "id": "5f407a80",
   "metadata": {},
   "outputs": [
    {
     "name": "stdout",
     "output_type": "stream",
     "text": [
      "[150, 56, 67, 78, 'pramod', 45, 6, 7, '96', 56, 'p', 5, 78]\n",
      "[150, 56, 67, 78, 'pramod', 45, 6, 7, '96', 56, 'p', 5, 78, 'uma mahesh']\n"
     ]
    }
   ],
   "source": [
    "print(w)\n",
    "w.insert(250,'uma mahesh')\n",
    "print(w)"
   ]
  },
  {
   "cell_type": "code",
   "execution_count": 93,
   "id": "66e7761c",
   "metadata": {},
   "outputs": [
    {
     "name": "stdout",
     "output_type": "stream",
     "text": [
      "[56]\n",
      "[56]\n",
      "[56]\n"
     ]
    }
   ],
   "source": [
    "g = [56]\n",
    "print(g)\n",
    "k = g.copy()\n",
    "print(g)\n",
    "print(k)"
   ]
  },
  {
   "cell_type": "code",
   "execution_count": 95,
   "id": "ebcdcb99",
   "metadata": {},
   "outputs": [
    {
     "name": "stdout",
     "output_type": "stream",
     "text": [
      "[56]\n",
      "[56]\n",
      "[56]\n",
      "[200, 56]\n"
     ]
    }
   ],
   "source": [
    "print(g)\n",
    "print(k)\n",
    "k.insert(0,200)\n",
    "print(g)\n",
    "print(k)"
   ]
  },
  {
   "cell_type": "code",
   "execution_count": 96,
   "id": "9c9d1906",
   "metadata": {},
   "outputs": [
    {
     "name": "stdout",
     "output_type": "stream",
     "text": [
      "[56]\n",
      "[200, 56]\n",
      "[56, 78]\n",
      "[200, 56]\n"
     ]
    }
   ],
   "source": [
    "print(g)\n",
    "print(k)\n",
    "g.insert(5,78)\n",
    "print(g)\n",
    "print(k)"
   ]
  },
  {
   "cell_type": "code",
   "execution_count": 97,
   "id": "3823f303",
   "metadata": {},
   "outputs": [
    {
     "name": "stdout",
     "output_type": "stream",
     "text": [
      "2304978803776\n",
      "2304978803264\n"
     ]
    }
   ],
   "source": [
    "print(id(g))\n",
    "print(id(k))"
   ]
  },
  {
   "cell_type": "code",
   "execution_count": 98,
   "id": "c241d55a",
   "metadata": {},
   "outputs": [
    {
     "name": "stdout",
     "output_type": "stream",
     "text": [
      "[67, 45.01, 'Lalitha', 67, 0.1151]\n",
      "[67, 45.01, 'Lalitha', 67]\n"
     ]
    }
   ],
   "source": [
    "y = [67,45.01,'Lalitha',67,0.1151]\n",
    "print(y)\n",
    "y.pop()\n",
    "print(y)"
   ]
  },
  {
   "cell_type": "code",
   "execution_count": 99,
   "id": "2e44928d",
   "metadata": {},
   "outputs": [
    {
     "name": "stdout",
     "output_type": "stream",
     "text": [
      "[67, 45.01, 'Lalitha', 67]\n",
      "[67, 'Lalitha', 67]\n"
     ]
    }
   ],
   "source": [
    "print(y)\n",
    "y.pop(1)\n",
    "print(y)"
   ]
  },
  {
   "cell_type": "code",
   "execution_count": 100,
   "id": "90ce3462",
   "metadata": {},
   "outputs": [
    {
     "name": "stdout",
     "output_type": "stream",
     "text": [
      "[67, 'Lalitha', 67]\n"
     ]
    },
    {
     "ename": "IndexError",
     "evalue": "pop index out of range",
     "output_type": "error",
     "traceback": [
      "\u001b[1;31m---------------------------------------------------------------------------\u001b[0m",
      "\u001b[1;31mIndexError\u001b[0m                                Traceback (most recent call last)",
      "Cell \u001b[1;32mIn[100], line 2\u001b[0m\n\u001b[0;32m      1\u001b[0m \u001b[38;5;28mprint\u001b[39m(y)\n\u001b[1;32m----> 2\u001b[0m \u001b[43my\u001b[49m\u001b[38;5;241;43m.\u001b[39;49m\u001b[43mpop\u001b[49m\u001b[43m(\u001b[49m\u001b[38;5;241;43m200\u001b[39;49m\u001b[43m)\u001b[49m\n\u001b[0;32m      3\u001b[0m \u001b[38;5;28mprint\u001b[39m(y)\n",
      "\u001b[1;31mIndexError\u001b[0m: pop index out of range"
     ]
    }
   ],
   "source": [
    "print(y)\n",
    "y.pop(200)\n",
    "print(y)"
   ]
  },
  {
   "cell_type": "code",
   "execution_count": 101,
   "id": "4b6fdcef",
   "metadata": {},
   "outputs": [
    {
     "name": "stdout",
     "output_type": "stream",
     "text": [
      "[67, 'Lalitha', 67]\n",
      "['Lalitha', 67]\n"
     ]
    }
   ],
   "source": [
    "print(y)\n",
    "y.remove(67)\n",
    "print(y)"
   ]
  },
  {
   "cell_type": "code",
   "execution_count": 102,
   "id": "08ecf160",
   "metadata": {},
   "outputs": [
    {
     "name": "stdout",
     "output_type": "stream",
     "text": [
      "['Lalitha', 67]\n"
     ]
    },
    {
     "ename": "ValueError",
     "evalue": "list.remove(x): x not in list",
     "output_type": "error",
     "traceback": [
      "\u001b[1;31m---------------------------------------------------------------------------\u001b[0m",
      "\u001b[1;31mValueError\u001b[0m                                Traceback (most recent call last)",
      "Cell \u001b[1;32mIn[102], line 2\u001b[0m\n\u001b[0;32m      1\u001b[0m \u001b[38;5;28mprint\u001b[39m(y)\n\u001b[1;32m----> 2\u001b[0m \u001b[43my\u001b[49m\u001b[38;5;241;43m.\u001b[39;49m\u001b[43mremove\u001b[49m\u001b[43m(\u001b[49m\u001b[38;5;241;43m-\u001b[39;49m\u001b[38;5;241;43m200\u001b[39;49m\u001b[43m)\u001b[49m\n\u001b[0;32m      3\u001b[0m \u001b[38;5;28mprint\u001b[39m(y)\n",
      "\u001b[1;31mValueError\u001b[0m: list.remove(x): x not in list"
     ]
    }
   ],
   "source": [
    "print(y)\n",
    "y.remove(-200)\n",
    "print(y)"
   ]
  },
  {
   "cell_type": "code",
   "execution_count": 103,
   "id": "539a2fac",
   "metadata": {},
   "outputs": [
    {
     "name": "stdout",
     "output_type": "stream",
     "text": [
      "[67, 78.0, 'kiran', 67]\n",
      "[]\n"
     ]
    }
   ],
   "source": [
    "s = [67,78.0,'kiran',67]\n",
    "print(s)\n",
    "s.clear()\n",
    "print(s)"
   ]
  },
  {
   "cell_type": "code",
   "execution_count": 104,
   "id": "fbccb5b8",
   "metadata": {},
   "outputs": [
    {
     "name": "stdout",
     "output_type": "stream",
     "text": [
      "[56, 78, 909, 56]\n"
     ]
    },
    {
     "ename": "NameError",
     "evalue": "name 'v' is not defined",
     "output_type": "error",
     "traceback": [
      "\u001b[1;31m---------------------------------------------------------------------------\u001b[0m",
      "\u001b[1;31mNameError\u001b[0m                                 Traceback (most recent call last)",
      "Cell \u001b[1;32mIn[104], line 4\u001b[0m\n\u001b[0;32m      2\u001b[0m \u001b[38;5;28mprint\u001b[39m(v)\n\u001b[0;32m      3\u001b[0m \u001b[38;5;28;01mdel\u001b[39;00m v\n\u001b[1;32m----> 4\u001b[0m \u001b[38;5;28mprint\u001b[39m(\u001b[43mv\u001b[49m)\n",
      "\u001b[1;31mNameError\u001b[0m: name 'v' is not defined"
     ]
    }
   ],
   "source": [
    "v = [56,78,909,56]\n",
    "print(v)\n",
    "del v\n",
    "print(v)"
   ]
  },
  {
   "cell_type": "code",
   "execution_count": 107,
   "id": "2d7e19a8",
   "metadata": {},
   "outputs": [
    {
     "name": "stdout",
     "output_type": "stream",
     "text": [
      "[8, 9, 34, 56, 8, 8, 8, 7]\n",
      "4\n",
      "0\n"
     ]
    }
   ],
   "source": [
    "z = [8,9,34,56,8,8,8,7]\n",
    "print(z)\n",
    "print(z.count(8))\n",
    "print(z.count(-5))"
   ]
  },
  {
   "cell_type": "code",
   "execution_count": 108,
   "id": "bf9c2048",
   "metadata": {},
   "outputs": [
    {
     "name": "stdout",
     "output_type": "stream",
     "text": [
      "[89, 456, 6, 78, 23, 2]\n",
      "[2, 6, 23, 78, 89, 456]\n"
     ]
    }
   ],
   "source": [
    "a = [89,456,6,78,23,2]\n",
    "print(a)\n",
    "a.sort()\n",
    "print(a)"
   ]
  },
  {
   "cell_type": "code",
   "execution_count": 109,
   "id": "a5f29a3b",
   "metadata": {},
   "outputs": [
    {
     "name": "stdout",
     "output_type": "stream",
     "text": [
      "[9, 200, 45, 56, 8]\n",
      "[200, 56, 45, 9, 8]\n"
     ]
    }
   ],
   "source": [
    "e = [9,200,45,56,8]\n",
    "print(e)\n",
    "e.sort(reverse=True)\n",
    "print(e)"
   ]
  },
  {
   "cell_type": "code",
   "execution_count": 110,
   "id": "4e77c7f5",
   "metadata": {},
   "outputs": [
    {
     "name": "stdout",
     "output_type": "stream",
     "text": [
      "[78, '56', 'Lokesh', 8]\n",
      "[8, 'Lokesh', '56', 78]\n"
     ]
    }
   ],
   "source": [
    "c = [78,'56','Lokesh',8]\n",
    "print(c)\n",
    "c.reverse()\n",
    "print(c)"
   ]
  },
  {
   "cell_type": "code",
   "execution_count": 112,
   "id": "bf9e49b6",
   "metadata": {},
   "outputs": [
    {
     "name": "stdout",
     "output_type": "stream",
     "text": [
      "[89, 8, 56, 34, 'Prasanna']\n",
      "1\n"
     ]
    },
    {
     "ename": "ValueError",
     "evalue": "-45 is not in list",
     "output_type": "error",
     "traceback": [
      "\u001b[1;31m---------------------------------------------------------------------------\u001b[0m",
      "\u001b[1;31mValueError\u001b[0m                                Traceback (most recent call last)",
      "Cell \u001b[1;32mIn[112], line 4\u001b[0m\n\u001b[0;32m      2\u001b[0m \u001b[38;5;28mprint\u001b[39m(z)\n\u001b[0;32m      3\u001b[0m \u001b[38;5;28mprint\u001b[39m(z\u001b[38;5;241m.\u001b[39mindex(\u001b[38;5;241m8\u001b[39m))\n\u001b[1;32m----> 4\u001b[0m \u001b[38;5;28mprint\u001b[39m(\u001b[43mz\u001b[49m\u001b[38;5;241;43m.\u001b[39;49m\u001b[43mindex\u001b[49m\u001b[43m(\u001b[49m\u001b[38;5;241;43m-\u001b[39;49m\u001b[38;5;241;43m45\u001b[39;49m\u001b[43m)\u001b[49m)\n",
      "\u001b[1;31mValueError\u001b[0m: -45 is not in list"
     ]
    }
   ],
   "source": [
    "z = [89,8,56,34,'Prasanna']\n",
    "print(z)\n",
    "print(z.index(8))\n",
    "print(z.index(-45))"
   ]
  },
  {
   "cell_type": "markdown",
   "id": "1d45fa44",
   "metadata": {},
   "source": [
    "## Tuple:\n",
    "    - It can be represented as \"()\"\n",
    "    - It stores data in ordered format\n",
    "    - It allows duplicate values\n",
    "    - Slicing can be done because of index\n",
    "    - It can be typecasted as tuple()\n",
    "    - It can't changes the values\n",
    "    - It stores different data type values"
   ]
  },
  {
   "cell_type": "code",
   "execution_count": 113,
   "id": "4dc43436",
   "metadata": {},
   "outputs": [
    {
     "name": "stdout",
     "output_type": "stream",
     "text": [
      "(3, '67.7867', 'Kalyan', False, None, (4+3j), 3, 3, '78') <class 'tuple'>\n"
     ]
    }
   ],
   "source": [
    "y = (3,'67.7867','Kalyan',False,None,4+3j,3,3,'78')\n",
    "print(y,type(y))"
   ]
  },
  {
   "cell_type": "code",
   "execution_count": 114,
   "id": "9bae3c85",
   "metadata": {},
   "outputs": [
    {
     "name": "stdout",
     "output_type": "stream",
     "text": [
      "(4+3j)\n",
      "(3, 'Kalyan')\n"
     ]
    }
   ],
   "source": [
    "print(y[5])\n",
    "print(y[:3:2])"
   ]
  },
  {
   "cell_type": "code",
   "execution_count": 115,
   "id": "e050cf1c",
   "metadata": {},
   "outputs": [
    {
     "name": "stdout",
     "output_type": "stream",
     "text": [
      "0 <class 'int'>\n",
      "1 <class 'int'>\n",
      "2 <class 'int'>\n",
      "3 <class 'int'>\n",
      "4 <class 'int'>\n",
      "5 <class 'int'>\n",
      "6 <class 'int'>\n",
      "7 <class 'int'>\n",
      "8 <class 'int'>\n"
     ]
    }
   ],
   "source": [
    "for i in range(len(y)):\n",
    "    print(i,type(i))"
   ]
  },
  {
   "cell_type": "code",
   "execution_count": 117,
   "id": "bb165a10",
   "metadata": {},
   "outputs": [
    {
     "name": "stdout",
     "output_type": "stream",
     "text": [
      "3 <class 'int'>\n",
      "67.7867 <class 'str'>\n",
      "Kalyan <class 'str'>\n",
      "False <class 'bool'>\n",
      "None <class 'NoneType'>\n",
      "(4+3j) <class 'complex'>\n",
      "3 <class 'int'>\n",
      "3 <class 'int'>\n",
      "78 <class 'str'>\n"
     ]
    }
   ],
   "source": [
    "for i in range(len(y)):\n",
    "    print(y[i],type(y[i]))"
   ]
  },
  {
   "cell_type": "code",
   "execution_count": 118,
   "id": "1aa16637",
   "metadata": {},
   "outputs": [
    {
     "name": "stdout",
     "output_type": "stream",
     "text": [
      "3 <class 'int'>\n",
      "67.7867 <class 'str'>\n",
      "Kalyan <class 'str'>\n",
      "False <class 'bool'>\n",
      "None <class 'NoneType'>\n",
      "(4+3j) <class 'complex'>\n",
      "3 <class 'int'>\n",
      "3 <class 'int'>\n",
      "78 <class 'str'>\n"
     ]
    }
   ],
   "source": [
    "for i in y:\n",
    "    print(i,type(i))"
   ]
  },
  {
   "cell_type": "code",
   "execution_count": 119,
   "id": "fb9cea8b",
   "metadata": {},
   "outputs": [
    {
     "name": "stdout",
     "output_type": "stream",
     "text": [
      "['__add__', '__class__', '__class_getitem__', '__contains__', '__delattr__', '__dir__', '__doc__', '__eq__', '__format__', '__ge__', '__getattribute__', '__getitem__', '__getnewargs__', '__gt__', '__hash__', '__init__', '__init_subclass__', '__iter__', '__le__', '__len__', '__lt__', '__mul__', '__ne__', '__new__', '__reduce__', '__reduce_ex__', '__repr__', '__rmul__', '__setattr__', '__sizeof__', '__str__', '__subclasshook__', 'count', 'index']\n"
     ]
    }
   ],
   "source": [
    "print(dir(tuple))"
   ]
  },
  {
   "cell_type": "code",
   "execution_count": 120,
   "id": "47e27df3",
   "metadata": {},
   "outputs": [
    {
     "name": "stdout",
     "output_type": "stream",
     "text": [
      "(45, 2, 6, 8, 3, 9, 2)\n",
      "1\n"
     ]
    },
    {
     "ename": "ValueError",
     "evalue": "tuple.index(x): x not in tuple",
     "output_type": "error",
     "traceback": [
      "\u001b[1;31m---------------------------------------------------------------------------\u001b[0m",
      "\u001b[1;31mValueError\u001b[0m                                Traceback (most recent call last)",
      "Cell \u001b[1;32mIn[120], line 4\u001b[0m\n\u001b[0;32m      2\u001b[0m \u001b[38;5;28mprint\u001b[39m(v)\n\u001b[0;32m      3\u001b[0m \u001b[38;5;28mprint\u001b[39m(v\u001b[38;5;241m.\u001b[39mindex(\u001b[38;5;241m2\u001b[39m))\n\u001b[1;32m----> 4\u001b[0m \u001b[38;5;28mprint\u001b[39m(\u001b[43mv\u001b[49m\u001b[38;5;241;43m.\u001b[39;49m\u001b[43mindex\u001b[49m\u001b[43m(\u001b[49m\u001b[38;5;241;43m-\u001b[39;49m\u001b[38;5;241;43m3\u001b[39;49m\u001b[43m)\u001b[49m)\n",
      "\u001b[1;31mValueError\u001b[0m: tuple.index(x): x not in tuple"
     ]
    }
   ],
   "source": [
    "v = (45,2,6,8,3,9,2)\n",
    "print(v)\n",
    "print(v.index(2))\n",
    "print(v.index(-3))"
   ]
  },
  {
   "cell_type": "code",
   "execution_count": 121,
   "id": "56f6bf0a",
   "metadata": {},
   "outputs": [
    {
     "name": "stdout",
     "output_type": "stream",
     "text": [
      "(3, 4, 56, 3, 56, 7)\n",
      "2\n",
      "0\n"
     ]
    }
   ],
   "source": [
    "n = (3,4,56,3,56,7)\n",
    "print(n)\n",
    "print(n.count(3))\n",
    "print(n.count(-89))"
   ]
  },
  {
   "cell_type": "code",
   "execution_count": null,
   "id": "445afe44",
   "metadata": {},
   "outputs": [],
   "source": []
  }
 ],
 "metadata": {
  "kernelspec": {
   "display_name": "Python 3 (ipykernel)",
   "language": "python",
   "name": "python3"
  },
  "language_info": {
   "codemirror_mode": {
    "name": "ipython",
    "version": 3
   },
   "file_extension": ".py",
   "mimetype": "text/x-python",
   "name": "python",
   "nbconvert_exporter": "python",
   "pygments_lexer": "ipython3",
   "version": "3.9.13"
  }
 },
 "nbformat": 4,
 "nbformat_minor": 5
}
